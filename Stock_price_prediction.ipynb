{
 "cells": [
  {
   "cell_type": "markdown",
   "metadata": {},
   "source": [
    "# Stock Market Prediction and Forecasting using Stacked LSTM"
   ]
  },
  {
   "cell_type": "code",
   "execution_count": 2,
   "metadata": {},
   "outputs": [],
   "source": [
    "import pandas_datareader as pdr"
   ]
  },
  {
   "cell_type": "code",
   "execution_count": 4,
   "metadata": {},
   "outputs": [
    {
     "data": {
      "text/plain": [
       "['Collecting python-dotenv',\n",
       " '  Downloading python_dotenv-1.0.0-py3-none-any.whl (19 kB)',\n",
       " 'Installing collected packages: python-dotenv',\n",
       " 'Successfully installed python-dotenv-1.0.0']"
      ]
     },
     "execution_count": 4,
     "metadata": {},
     "output_type": "execute_result"
    }
   ],
   "source": [
    "# !pip install python-dotenv"
   ]
  },
  {
   "cell_type": "code",
   "execution_count": 5,
   "metadata": {},
   "outputs": [],
   "source": [
    "from dotenv import load_dotenv\n",
    "import os\n",
    "\n",
    "# Load variables from .env file\n",
    "load_dotenv('.env')\n",
    "\n",
    "# Access the API key\n",
    "api_key = os.getenv('API_KEY')"
   ]
  },
  {
   "cell_type": "code",
   "execution_count": 22,
   "metadata": {},
   "outputs": [],
   "source": [
    "df=pdr.get_data_tiingo('AAPL',api_key=api_key)"
   ]
  },
  {
   "cell_type": "code",
   "execution_count": 9,
   "metadata": {},
   "outputs": [],
   "source": [
    "import pandas as pd"
   ]
  },
  {
   "cell_type": "code",
   "execution_count": 23,
   "metadata": {},
   "outputs": [],
   "source": [
    "df.to_csv('AAPL.csv')"
   ]
  },
  {
   "cell_type": "code",
   "execution_count": 24,
   "metadata": {},
   "outputs": [],
   "source": [
    "df=pd.read_csv('AAPL.csv')"
   ]
  },
  {
   "cell_type": "code",
   "execution_count": 25,
   "metadata": {},
   "outputs": [
    {
     "data": {
      "text/html": [
       "<div>\n",
       "<style scoped>\n",
       "    .dataframe tbody tr th:only-of-type {\n",
       "        vertical-align: middle;\n",
       "    }\n",
       "\n",
       "    .dataframe tbody tr th {\n",
       "        vertical-align: top;\n",
       "    }\n",
       "\n",
       "    .dataframe thead th {\n",
       "        text-align: right;\n",
       "    }\n",
       "</style>\n",
       "<table border=\"1\" class=\"dataframe\">\n",
       "  <thead>\n",
       "    <tr style=\"text-align: right;\">\n",
       "      <th></th>\n",
       "      <th>symbol</th>\n",
       "      <th>date</th>\n",
       "      <th>close</th>\n",
       "      <th>high</th>\n",
       "      <th>low</th>\n",
       "      <th>open</th>\n",
       "      <th>volume</th>\n",
       "      <th>adjClose</th>\n",
       "      <th>adjHigh</th>\n",
       "      <th>adjLow</th>\n",
       "      <th>adjOpen</th>\n",
       "      <th>adjVolume</th>\n",
       "      <th>divCash</th>\n",
       "      <th>splitFactor</th>\n",
       "    </tr>\n",
       "  </thead>\n",
       "  <tbody>\n",
       "    <tr>\n",
       "      <th>951</th>\n",
       "      <td>AAPL</td>\n",
       "      <td>2022-03-08 00:00:00+00:00</td>\n",
       "      <td>157.44</td>\n",
       "      <td>162.88</td>\n",
       "      <td>155.8000</td>\n",
       "      <td>158.82</td>\n",
       "      <td>131148280</td>\n",
       "      <td>156.275538</td>\n",
       "      <td>161.675302</td>\n",
       "      <td>154.647667</td>\n",
       "      <td>157.645331</td>\n",
       "      <td>131148280</td>\n",
       "      <td>0.0</td>\n",
       "      <td>1.0</td>\n",
       "    </tr>\n",
       "    <tr>\n",
       "      <th>27</th>\n",
       "      <td>AAPL</td>\n",
       "      <td>2018-07-06 00:00:00+00:00</td>\n",
       "      <td>187.97</td>\n",
       "      <td>188.43</td>\n",
       "      <td>185.2000</td>\n",
       "      <td>185.42</td>\n",
       "      <td>17485245</td>\n",
       "      <td>44.905787</td>\n",
       "      <td>45.015681</td>\n",
       "      <td>44.244038</td>\n",
       "      <td>44.296596</td>\n",
       "      <td>69940980</td>\n",
       "      <td>0.0</td>\n",
       "      <td>1.0</td>\n",
       "    </tr>\n",
       "    <tr>\n",
       "      <th>1021</th>\n",
       "      <td>AAPL</td>\n",
       "      <td>2022-06-16 00:00:00+00:00</td>\n",
       "      <td>130.06</td>\n",
       "      <td>132.39</td>\n",
       "      <td>129.0400</td>\n",
       "      <td>132.08</td>\n",
       "      <td>107961508</td>\n",
       "      <td>129.286834</td>\n",
       "      <td>131.602983</td>\n",
       "      <td>128.272898</td>\n",
       "      <td>131.294826</td>\n",
       "      <td>107961508</td>\n",
       "      <td>0.0</td>\n",
       "      <td>1.0</td>\n",
       "    </tr>\n",
       "    <tr>\n",
       "      <th>107</th>\n",
       "      <td>AAPL</td>\n",
       "      <td>2018-10-29 00:00:00+00:00</td>\n",
       "      <td>212.24</td>\n",
       "      <td>219.69</td>\n",
       "      <td>206.0900</td>\n",
       "      <td>219.19</td>\n",
       "      <td>45935520</td>\n",
       "      <td>50.882213</td>\n",
       "      <td>52.668268</td>\n",
       "      <td>49.407817</td>\n",
       "      <td>52.548399</td>\n",
       "      <td>183742080</td>\n",
       "      <td>0.0</td>\n",
       "      <td>1.0</td>\n",
       "    </tr>\n",
       "    <tr>\n",
       "      <th>729</th>\n",
       "      <td>AAPL</td>\n",
       "      <td>2021-04-21 00:00:00+00:00</td>\n",
       "      <td>133.50</td>\n",
       "      <td>133.75</td>\n",
       "      <td>131.3001</td>\n",
       "      <td>132.36</td>\n",
       "      <td>68847136</td>\n",
       "      <td>131.730316</td>\n",
       "      <td>131.977002</td>\n",
       "      <td>129.559578</td>\n",
       "      <td>130.605428</td>\n",
       "      <td>68847136</td>\n",
       "      <td>0.0</td>\n",
       "      <td>1.0</td>\n",
       "    </tr>\n",
       "  </tbody>\n",
       "</table>\n",
       "</div>"
      ],
      "text/plain": [
       "     symbol                       date   close    high       low    open  \\\n",
       "951    AAPL  2022-03-08 00:00:00+00:00  157.44  162.88  155.8000  158.82   \n",
       "27     AAPL  2018-07-06 00:00:00+00:00  187.97  188.43  185.2000  185.42   \n",
       "1021   AAPL  2022-06-16 00:00:00+00:00  130.06  132.39  129.0400  132.08   \n",
       "107    AAPL  2018-10-29 00:00:00+00:00  212.24  219.69  206.0900  219.19   \n",
       "729    AAPL  2021-04-21 00:00:00+00:00  133.50  133.75  131.3001  132.36   \n",
       "\n",
       "         volume    adjClose     adjHigh      adjLow     adjOpen  adjVolume  \\\n",
       "951   131148280  156.275538  161.675302  154.647667  157.645331  131148280   \n",
       "27     17485245   44.905787   45.015681   44.244038   44.296596   69940980   \n",
       "1021  107961508  129.286834  131.602983  128.272898  131.294826  107961508   \n",
       "107    45935520   50.882213   52.668268   49.407817   52.548399  183742080   \n",
       "729    68847136  131.730316  131.977002  129.559578  130.605428   68847136   \n",
       "\n",
       "      divCash  splitFactor  \n",
       "951       0.0          1.0  \n",
       "27        0.0          1.0  \n",
       "1021      0.0          1.0  \n",
       "107       0.0          1.0  \n",
       "729       0.0          1.0  "
      ]
     },
     "execution_count": 25,
     "metadata": {},
     "output_type": "execute_result"
    }
   ],
   "source": [
    "df.sample(5)"
   ]
  },
  {
   "cell_type": "code",
   "execution_count": 26,
   "metadata": {},
   "outputs": [
    {
     "data": {
      "text/html": [
       "<div>\n",
       "<style scoped>\n",
       "    .dataframe tbody tr th:only-of-type {\n",
       "        vertical-align: middle;\n",
       "    }\n",
       "\n",
       "    .dataframe tbody tr th {\n",
       "        vertical-align: top;\n",
       "    }\n",
       "\n",
       "    .dataframe thead th {\n",
       "        text-align: right;\n",
       "    }\n",
       "</style>\n",
       "<table border=\"1\" class=\"dataframe\">\n",
       "  <thead>\n",
       "    <tr style=\"text-align: right;\">\n",
       "      <th></th>\n",
       "      <th>symbol</th>\n",
       "      <th>date</th>\n",
       "      <th>close</th>\n",
       "      <th>high</th>\n",
       "      <th>low</th>\n",
       "      <th>open</th>\n",
       "      <th>volume</th>\n",
       "      <th>adjClose</th>\n",
       "      <th>adjHigh</th>\n",
       "      <th>adjLow</th>\n",
       "      <th>adjOpen</th>\n",
       "      <th>adjVolume</th>\n",
       "      <th>divCash</th>\n",
       "      <th>splitFactor</th>\n",
       "    </tr>\n",
       "  </thead>\n",
       "  <tbody>\n",
       "    <tr>\n",
       "      <th>1254</th>\n",
       "      <td>AAPL</td>\n",
       "      <td>2023-05-22 00:00:00+00:00</td>\n",
       "      <td>174.20</td>\n",
       "      <td>174.7100</td>\n",
       "      <td>173.450</td>\n",
       "      <td>173.98</td>\n",
       "      <td>43570932</td>\n",
       "      <td>174.20</td>\n",
       "      <td>174.7100</td>\n",
       "      <td>173.450</td>\n",
       "      <td>173.98</td>\n",
       "      <td>43570932</td>\n",
       "      <td>0.0</td>\n",
       "      <td>1.0</td>\n",
       "    </tr>\n",
       "    <tr>\n",
       "      <th>1255</th>\n",
       "      <td>AAPL</td>\n",
       "      <td>2023-05-23 00:00:00+00:00</td>\n",
       "      <td>171.56</td>\n",
       "      <td>173.3794</td>\n",
       "      <td>171.275</td>\n",
       "      <td>173.13</td>\n",
       "      <td>50747263</td>\n",
       "      <td>171.56</td>\n",
       "      <td>173.3794</td>\n",
       "      <td>171.275</td>\n",
       "      <td>173.13</td>\n",
       "      <td>50747263</td>\n",
       "      <td>0.0</td>\n",
       "      <td>1.0</td>\n",
       "    </tr>\n",
       "    <tr>\n",
       "      <th>1256</th>\n",
       "      <td>AAPL</td>\n",
       "      <td>2023-05-24 00:00:00+00:00</td>\n",
       "      <td>171.84</td>\n",
       "      <td>172.4183</td>\n",
       "      <td>170.520</td>\n",
       "      <td>171.09</td>\n",
       "      <td>45143488</td>\n",
       "      <td>171.84</td>\n",
       "      <td>172.4183</td>\n",
       "      <td>170.520</td>\n",
       "      <td>171.09</td>\n",
       "      <td>45143488</td>\n",
       "      <td>0.0</td>\n",
       "      <td>1.0</td>\n",
       "    </tr>\n",
       "    <tr>\n",
       "      <th>1257</th>\n",
       "      <td>AAPL</td>\n",
       "      <td>2023-05-25 00:00:00+00:00</td>\n",
       "      <td>172.99</td>\n",
       "      <td>173.8950</td>\n",
       "      <td>171.690</td>\n",
       "      <td>172.41</td>\n",
       "      <td>56058258</td>\n",
       "      <td>172.99</td>\n",
       "      <td>173.8950</td>\n",
       "      <td>171.690</td>\n",
       "      <td>172.41</td>\n",
       "      <td>56058258</td>\n",
       "      <td>0.0</td>\n",
       "      <td>1.0</td>\n",
       "    </tr>\n",
       "    <tr>\n",
       "      <th>1258</th>\n",
       "      <td>AAPL</td>\n",
       "      <td>2023-05-26 00:00:00+00:00</td>\n",
       "      <td>175.43</td>\n",
       "      <td>175.7700</td>\n",
       "      <td>173.110</td>\n",
       "      <td>173.32</td>\n",
       "      <td>54834975</td>\n",
       "      <td>175.43</td>\n",
       "      <td>175.7700</td>\n",
       "      <td>173.110</td>\n",
       "      <td>173.32</td>\n",
       "      <td>54834975</td>\n",
       "      <td>0.0</td>\n",
       "      <td>1.0</td>\n",
       "    </tr>\n",
       "  </tbody>\n",
       "</table>\n",
       "</div>"
      ],
      "text/plain": [
       "     symbol                       date   close      high      low    open  \\\n",
       "1254   AAPL  2023-05-22 00:00:00+00:00  174.20  174.7100  173.450  173.98   \n",
       "1255   AAPL  2023-05-23 00:00:00+00:00  171.56  173.3794  171.275  173.13   \n",
       "1256   AAPL  2023-05-24 00:00:00+00:00  171.84  172.4183  170.520  171.09   \n",
       "1257   AAPL  2023-05-25 00:00:00+00:00  172.99  173.8950  171.690  172.41   \n",
       "1258   AAPL  2023-05-26 00:00:00+00:00  175.43  175.7700  173.110  173.32   \n",
       "\n",
       "        volume  adjClose   adjHigh   adjLow  adjOpen  adjVolume  divCash  \\\n",
       "1254  43570932    174.20  174.7100  173.450   173.98   43570932      0.0   \n",
       "1255  50747263    171.56  173.3794  171.275   173.13   50747263      0.0   \n",
       "1256  45143488    171.84  172.4183  170.520   171.09   45143488      0.0   \n",
       "1257  56058258    172.99  173.8950  171.690   172.41   56058258      0.0   \n",
       "1258  54834975    175.43  175.7700  173.110   173.32   54834975      0.0   \n",
       "\n",
       "      splitFactor  \n",
       "1254          1.0  \n",
       "1255          1.0  \n",
       "1256          1.0  \n",
       "1257          1.0  \n",
       "1258          1.0  "
      ]
     },
     "execution_count": 26,
     "metadata": {},
     "output_type": "execute_result"
    }
   ],
   "source": [
    "df.tail()"
   ]
  },
  {
   "cell_type": "code",
   "execution_count": 27,
   "metadata": {},
   "outputs": [],
   "source": [
    "df1=df['close']"
   ]
  },
  {
   "cell_type": "code",
   "execution_count": 28,
   "metadata": {},
   "outputs": [
    {
     "data": {
      "text/plain": [
       "(1259,)"
      ]
     },
     "execution_count": 28,
     "metadata": {},
     "output_type": "execute_result"
    }
   ],
   "source": [
    "df1.shape"
   ]
  },
  {
   "cell_type": "code",
   "execution_count": 29,
   "metadata": {},
   "outputs": [],
   "source": [
    "#plotting close price "
   ]
  },
  {
   "cell_type": "code",
   "execution_count": 30,
   "metadata": {},
   "outputs": [
    {
     "data": {
      "image/png": "[encoded data removed]",
      "text/plain": [
       "<Figure size 432x288 with 1 Axes>"
      ]
     },
     "metadata": {
      "needs_background": "light"
     },
     "output_type": "display_data"
    }
   ],
   "source": [
    "import matplotlib.pyplot as plt\n",
    "plt.plot(df1)\n",
    "plt.show()"
   ]
  },
  {
   "cell_type": "code",
   "execution_count": 31,
   "metadata": {
    "scrolled": true
   },
   "outputs": [
    {
     "data": {
      "text/plain": [
       "0       187.90\n",
       "1       187.50\n",
       "2       186.87\n",
       "3       190.24\n",
       "4       191.83\n",
       "         ...  \n",
       "1254    174.20\n",
       "1255    171.56\n",
       "1256    171.84\n",
       "1257    172.99\n",
       "1258    175.43\n",
       "Name: close, Length: 1259, dtype: float64"
      ]
     },
     "execution_count": 31,
     "metadata": {},
     "output_type": "execute_result"
    }
   ],
   "source": [
    "df1"
   ]
  },
  {
   "cell_type": "code",
   "execution_count": 32,
   "metadata": {
    "scrolled": false
   },
   "outputs": [
    {
     "data": {
      "text/html": [
       "<div>\n",
       "<style scoped>\n",
       "    .dataframe tbody tr th:only-of-type {\n",
       "        vertical-align: middle;\n",
       "    }\n",
       "\n",
       "    .dataframe tbody tr th {\n",
       "        vertical-align: top;\n",
       "    }\n",
       "\n",
       "    .dataframe thead th {\n",
       "        text-align: right;\n",
       "    }\n",
       "</style>\n",
       "<table border=\"1\" class=\"dataframe\">\n",
       "  <thead>\n",
       "    <tr style=\"text-align: right;\">\n",
       "      <th></th>\n",
       "      <th>symbol</th>\n",
       "      <th>date</th>\n",
       "      <th>close</th>\n",
       "      <th>high</th>\n",
       "      <th>low</th>\n",
       "      <th>open</th>\n",
       "      <th>volume</th>\n",
       "      <th>adjClose</th>\n",
       "      <th>adjHigh</th>\n",
       "      <th>adjLow</th>\n",
       "      <th>adjOpen</th>\n",
       "      <th>adjVolume</th>\n",
       "      <th>divCash</th>\n",
       "      <th>splitFactor</th>\n",
       "    </tr>\n",
       "  </thead>\n",
       "  <tbody>\n",
       "    <tr>\n",
       "      <th>0</th>\n",
       "      <td>AAPL</td>\n",
       "      <td>2018-05-29 00:00:00+00:00</td>\n",
       "      <td>187.90</td>\n",
       "      <td>188.75</td>\n",
       "      <td>186.87</td>\n",
       "      <td>187.60</td>\n",
       "      <td>22514075</td>\n",
       "      <td>44.889064</td>\n",
       "      <td>45.092128</td>\n",
       "      <td>44.642999</td>\n",
       "      <td>44.817395</td>\n",
       "      <td>90056300</td>\n",
       "      <td>0.0</td>\n",
       "      <td>1.0</td>\n",
       "    </tr>\n",
       "    <tr>\n",
       "      <th>1</th>\n",
       "      <td>AAPL</td>\n",
       "      <td>2018-05-30 00:00:00+00:00</td>\n",
       "      <td>187.50</td>\n",
       "      <td>188.00</td>\n",
       "      <td>186.78</td>\n",
       "      <td>187.72</td>\n",
       "      <td>18690547</td>\n",
       "      <td>44.793505</td>\n",
       "      <td>44.912954</td>\n",
       "      <td>44.621498</td>\n",
       "      <td>44.846063</td>\n",
       "      <td>74762188</td>\n",
       "      <td>0.0</td>\n",
       "      <td>1.0</td>\n",
       "    </tr>\n",
       "    <tr>\n",
       "      <th>2</th>\n",
       "      <td>AAPL</td>\n",
       "      <td>2018-05-31 00:00:00+00:00</td>\n",
       "      <td>186.87</td>\n",
       "      <td>188.23</td>\n",
       "      <td>186.14</td>\n",
       "      <td>187.22</td>\n",
       "      <td>27482793</td>\n",
       "      <td>44.642999</td>\n",
       "      <td>44.967901</td>\n",
       "      <td>44.468603</td>\n",
       "      <td>44.726613</td>\n",
       "      <td>109931172</td>\n",
       "      <td>0.0</td>\n",
       "      <td>1.0</td>\n",
       "    </tr>\n",
       "    <tr>\n",
       "      <th>3</th>\n",
       "      <td>AAPL</td>\n",
       "      <td>2018-06-01 00:00:00+00:00</td>\n",
       "      <td>190.24</td>\n",
       "      <td>190.26</td>\n",
       "      <td>187.75</td>\n",
       "      <td>187.99</td>\n",
       "      <td>23442510</td>\n",
       "      <td>45.448087</td>\n",
       "      <td>45.452865</td>\n",
       "      <td>44.853230</td>\n",
       "      <td>44.910565</td>\n",
       "      <td>93770040</td>\n",
       "      <td>0.0</td>\n",
       "      <td>1.0</td>\n",
       "    </tr>\n",
       "    <tr>\n",
       "      <th>4</th>\n",
       "      <td>AAPL</td>\n",
       "      <td>2018-06-04 00:00:00+00:00</td>\n",
       "      <td>191.83</td>\n",
       "      <td>193.42</td>\n",
       "      <td>191.35</td>\n",
       "      <td>191.64</td>\n",
       "      <td>26266174</td>\n",
       "      <td>45.827936</td>\n",
       "      <td>46.207785</td>\n",
       "      <td>45.713265</td>\n",
       "      <td>45.782545</td>\n",
       "      <td>105064696</td>\n",
       "      <td>0.0</td>\n",
       "      <td>1.0</td>\n",
       "    </tr>\n",
       "  </tbody>\n",
       "</table>\n",
       "</div>"
      ],
      "text/plain": [
       "  symbol                       date   close    high     low    open    volume  \\\n",
       "0   AAPL  2018-05-29 00:00:00+00:00  187.90  188.75  186.87  187.60  22514075   \n",
       "1   AAPL  2018-05-30 00:00:00+00:00  187.50  188.00  186.78  187.72  18690547   \n",
       "2   AAPL  2018-05-31 00:00:00+00:00  186.87  188.23  186.14  187.22  27482793   \n",
       "3   AAPL  2018-06-01 00:00:00+00:00  190.24  190.26  187.75  187.99  23442510   \n",
       "4   AAPL  2018-06-04 00:00:00+00:00  191.83  193.42  191.35  191.64  26266174   \n",
       "\n",
       "    adjClose    adjHigh     adjLow    adjOpen  adjVolume  divCash  splitFactor  \n",
       "0  44.889064  45.092128  44.642999  44.817395   90056300      0.0          1.0  \n",
       "1  44.793505  44.912954  44.621498  44.846063   74762188      0.0          1.0  \n",
       "2  44.642999  44.967901  44.468603  44.726613  109931172      0.0          1.0  \n",
       "3  45.448087  45.452865  44.853230  44.910565   93770040      0.0          1.0  \n",
       "4  45.827936  46.207785  45.713265  45.782545  105064696      0.0          1.0  "
      ]
     },
     "execution_count": 32,
     "metadata": {},
     "output_type": "execute_result"
    }
   ],
   "source": [
    "df.head()"
   ]
  },
  {
   "cell_type": "code",
   "execution_count": 33,
   "metadata": {
    "scrolled": true
   },
   "outputs": [
    {
     "data": {
      "text/html": [
       "<div>\n",
       "<style scoped>\n",
       "    .dataframe tbody tr th:only-of-type {\n",
       "        vertical-align: middle;\n",
       "    }\n",
       "\n",
       "    .dataframe tbody tr th {\n",
       "        vertical-align: top;\n",
       "    }\n",
       "\n",
       "    .dataframe thead th {\n",
       "        text-align: right;\n",
       "    }\n",
       "</style>\n",
       "<table border=\"1\" class=\"dataframe\">\n",
       "  <thead>\n",
       "    <tr style=\"text-align: right;\">\n",
       "      <th></th>\n",
       "      <th>symbol</th>\n",
       "      <th>date</th>\n",
       "      <th>close</th>\n",
       "      <th>high</th>\n",
       "      <th>low</th>\n",
       "      <th>open</th>\n",
       "      <th>volume</th>\n",
       "      <th>adjClose</th>\n",
       "      <th>adjHigh</th>\n",
       "      <th>adjLow</th>\n",
       "      <th>adjOpen</th>\n",
       "      <th>adjVolume</th>\n",
       "      <th>divCash</th>\n",
       "      <th>splitFactor</th>\n",
       "    </tr>\n",
       "  </thead>\n",
       "  <tbody>\n",
       "    <tr>\n",
       "      <th>1254</th>\n",
       "      <td>AAPL</td>\n",
       "      <td>2023-05-22 00:00:00+00:00</td>\n",
       "      <td>174.20</td>\n",
       "      <td>174.7100</td>\n",
       "      <td>173.450</td>\n",
       "      <td>173.98</td>\n",
       "      <td>43570932</td>\n",
       "      <td>174.20</td>\n",
       "      <td>174.7100</td>\n",
       "      <td>173.450</td>\n",
       "      <td>173.98</td>\n",
       "      <td>43570932</td>\n",
       "      <td>0.0</td>\n",
       "      <td>1.0</td>\n",
       "    </tr>\n",
       "    <tr>\n",
       "      <th>1255</th>\n",
       "      <td>AAPL</td>\n",
       "      <td>2023-05-23 00:00:00+00:00</td>\n",
       "      <td>171.56</td>\n",
       "      <td>173.3794</td>\n",
       "      <td>171.275</td>\n",
       "      <td>173.13</td>\n",
       "      <td>50747263</td>\n",
       "      <td>171.56</td>\n",
       "      <td>173.3794</td>\n",
       "      <td>171.275</td>\n",
       "      <td>173.13</td>\n",
       "      <td>50747263</td>\n",
       "      <td>0.0</td>\n",
       "      <td>1.0</td>\n",
       "    </tr>\n",
       "    <tr>\n",
       "      <th>1256</th>\n",
       "      <td>AAPL</td>\n",
       "      <td>2023-05-24 00:00:00+00:00</td>\n",
       "      <td>171.84</td>\n",
       "      <td>172.4183</td>\n",
       "      <td>170.520</td>\n",
       "      <td>171.09</td>\n",
       "      <td>45143488</td>\n",
       "      <td>171.84</td>\n",
       "      <td>172.4183</td>\n",
       "      <td>170.520</td>\n",
       "      <td>171.09</td>\n",
       "      <td>45143488</td>\n",
       "      <td>0.0</td>\n",
       "      <td>1.0</td>\n",
       "    </tr>\n",
       "    <tr>\n",
       "      <th>1257</th>\n",
       "      <td>AAPL</td>\n",
       "      <td>2023-05-25 00:00:00+00:00</td>\n",
       "      <td>172.99</td>\n",
       "      <td>173.8950</td>\n",
       "      <td>171.690</td>\n",
       "      <td>172.41</td>\n",
       "      <td>56058258</td>\n",
       "      <td>172.99</td>\n",
       "      <td>173.8950</td>\n",
       "      <td>171.690</td>\n",
       "      <td>172.41</td>\n",
       "      <td>56058258</td>\n",
       "      <td>0.0</td>\n",
       "      <td>1.0</td>\n",
       "    </tr>\n",
       "    <tr>\n",
       "      <th>1258</th>\n",
       "      <td>AAPL</td>\n",
       "      <td>2023-05-26 00:00:00+00:00</td>\n",
       "      <td>175.43</td>\n",
       "      <td>175.7700</td>\n",
       "      <td>173.110</td>\n",
       "      <td>173.32</td>\n",
       "      <td>54834975</td>\n",
       "      <td>175.43</td>\n",
       "      <td>175.7700</td>\n",
       "      <td>173.110</td>\n",
       "      <td>173.32</td>\n",
       "      <td>54834975</td>\n",
       "      <td>0.0</td>\n",
       "      <td>1.0</td>\n",
       "    </tr>\n",
       "  </tbody>\n",
       "</table>\n",
       "</div>"
      ],
      "text/plain": [
       "     symbol                       date   close      high      low    open  \\\n",
       "1254   AAPL  2023-05-22 00:00:00+00:00  174.20  174.7100  173.450  173.98   \n",
       "1255   AAPL  2023-05-23 00:00:00+00:00  171.56  173.3794  171.275  173.13   \n",
       "1256   AAPL  2023-05-24 00:00:00+00:00  171.84  172.4183  170.520  171.09   \n",
       "1257   AAPL  2023-05-25 00:00:00+00:00  172.99  173.8950  171.690  172.41   \n",
       "1258   AAPL  2023-05-26 00:00:00+00:00  175.43  175.7700  173.110  173.32   \n",
       "\n",
       "        volume  adjClose   adjHigh   adjLow  adjOpen  adjVolume  divCash  \\\n",
       "1254  43570932    174.20  174.7100  173.450   173.98   43570932      0.0   \n",
       "1255  50747263    171.56  173.3794  171.275   173.13   50747263      0.0   \n",
       "1256  45143488    171.84  172.4183  170.520   171.09   45143488      0.0   \n",
       "1257  56058258    172.99  173.8950  171.690   172.41   56058258      0.0   \n",
       "1258  54834975    175.43  175.7700  173.110   173.32   54834975      0.0   \n",
       "\n",
       "      splitFactor  \n",
       "1254          1.0  \n",
       "1255          1.0  \n",
       "1256          1.0  \n",
       "1257          1.0  \n",
       "1258          1.0  "
      ]
     },
     "execution_count": 33,
     "metadata": {},
     "output_type": "execute_result"
    }
   ],
   "source": [
    "df.tail()"
   ]
  },
  {
   "cell_type": "code",
   "execution_count": null,
   "metadata": {},
   "outputs": [],
   "source": [
    "#scaling data of lstm because lstm are sensitive to scale of data"
   ]
  },
  {
   "cell_type": "code",
   "execution_count": 34,
   "metadata": {},
   "outputs": [],
   "source": [
    "import numpy as np\n",
    "from sklearn.preprocessing import MinMaxScaler"
   ]
  },
  {
   "cell_type": "code",
   "execution_count": 35,
   "metadata": {},
   "outputs": [],
   "source": [
    "scaler=MinMaxScaler(feature_range=(0,1))\n",
    "df1=scaler.fit_transform(np.array(df1).reshape(-1,1))"
   ]
  },
  {
   "cell_type": "code",
   "execution_count": 36,
   "metadata": {},
   "outputs": [
    {
     "data": {
      "text/plain": [
       "(1259, 1)"
      ]
     },
     "execution_count": 36,
     "metadata": {},
     "output_type": "execute_result"
    }
   ],
   "source": [
    "df1.shape"
   ]
  },
  {
   "cell_type": "code",
   "execution_count": 37,
   "metadata": {
    "scrolled": true
   },
   "outputs": [
    {
     "data": {
      "image/png": "[encoded data removed]",
      "text/plain": [
       "<Figure size 432x288 with 1 Axes>"
      ]
     },
     "metadata": {
      "needs_background": "light"
     },
     "output_type": "display_data"
    }
   ],
   "source": [
    "plt.plot(df1)\n",
    "plt.show()"
   ]
  },
  {
   "cell_type": "code",
   "execution_count": 38,
   "metadata": {},
   "outputs": [],
   "source": [
    "#In lstm lets say if we keep 1month data as train data \n",
    "#then rest of data becomes test data i.e 31st data get predicted\n",
    "#on previous 30 days and this pattern follows for rest of data \n",
    "#also learnig happens on the data available and data predicted"
   ]
  },
  {
   "cell_type": "code",
   "execution_count": 40,
   "metadata": {},
   "outputs": [],
   "source": [
    "#splitting dataset into train and test split\n",
    "training_size=int(len(df1)*0.65)\n",
    "test_size=len(df1)-training_size\n",
    "train_data,test_data=df1[0:training_size,:],df1[training_size:len(df1),:1]"
   ]
  },
  {
   "cell_type": "code",
   "execution_count": 41,
   "metadata": {},
   "outputs": [
    {
     "data": {
      "text/plain": [
       "(818, 441)"
      ]
     },
     "execution_count": 41,
     "metadata": {},
     "output_type": "execute_result"
    }
   ],
   "source": [
    "training_size,test_size"
   ]
  },
  {
   "cell_type": "code",
   "execution_count": 42,
   "metadata": {},
   "outputs": [],
   "source": [
    "#convert an array of values into a dataset matrix\n",
    "def create_dataset(dataset,time_step=1):\n",
    "    dataX,dataY=[],[]\n",
    "    for i in range(len(dataset)-time_step-1): #0,1,2...,99\n",
    "        a=dataset[i:(i+time_step),0]\n",
    "        dataX.append(a)\n",
    "        dataY.append(dataset[i+time_step,0]) #100\n",
    "    return np.array(dataX),np.array(dataY)"
   ]
  },
  {
   "cell_type": "code",
   "execution_count": 43,
   "metadata": {},
   "outputs": [],
   "source": [
    "#reshape into X=t, t+1, t+2, t+3 and Y=t+4\n",
    "time_step=100\n",
    "X_train,y_train=create_dataset(train_data,time_step)\n",
    "x_test,y_test=create_dataset(test_data,time_step)"
   ]
  },
  {
   "cell_type": "code",
   "execution_count": 44,
   "metadata": {},
   "outputs": [
    {
     "data": {
      "text/plain": [
       "array([[0.20303068, 0.2020288 , 0.20045085, ..., 0.27681904, 0.28881653,\n",
       "        0.28641202],\n",
       "       [0.2020288 , 0.20045085, 0.20889167, ..., 0.28881653, 0.28641202,\n",
       "        0.27346274],\n",
       "       [0.20045085, 0.20889167, 0.21287414, ..., 0.28641202, 0.27346274,\n",
       "        0.28170319],\n",
       "       ...,\n",
       "       [0.03271133, 0.0383469 , 0.04047589, ..., 0.10857858, 0.0989856 ,\n",
       "        0.09983719],\n",
       "       [0.0383469 , 0.04047589, 0.04773951, ..., 0.0989856 , 0.09983719,\n",
       "        0.10356919],\n",
       "       [0.04047589, 0.04773951, 0.04851597, ..., 0.09983719, 0.10356919,\n",
       "        0.10737633]])"
      ]
     },
     "execution_count": 44,
     "metadata": {},
     "output_type": "execute_result"
    }
   ],
   "source": [
    "X_train"
   ]
  },
  {
   "cell_type": "code",
   "execution_count": 45,
   "metadata": {},
   "outputs": [
    {
     "data": {
      "text/plain": [
       "(717, 100)"
      ]
     },
     "execution_count": 45,
     "metadata": {},
     "output_type": "execute_result"
    }
   ],
   "source": [
    "X_train.shape"
   ]
  },
  {
   "cell_type": "code",
   "execution_count": 46,
   "metadata": {},
   "outputs": [
    {
     "data": {
      "text/plain": [
       "(717,)"
      ]
     },
     "execution_count": 46,
     "metadata": {},
     "output_type": "execute_result"
    }
   ],
   "source": [
    "y_train.shape"
   ]
  },
  {
   "cell_type": "code",
   "execution_count": 48,
   "metadata": {},
   "outputs": [],
   "source": [
    "# for Lstm reshape input to be [samples, time steps, features]\n",
    "X_train=X_train.reshape(X_train.shape[0],X_train.shape[1],1)\n",
    "x_test=x_test.reshape(x_test.shape[0],x_test.shape[1],1)"
   ]
  },
  {
   "cell_type": "code",
   "execution_count": 49,
   "metadata": {},
   "outputs": [
    {
     "data": {
      "text/plain": [
       "(717, 100, 1)"
      ]
     },
     "execution_count": 49,
     "metadata": {},
     "output_type": "execute_result"
    }
   ],
   "source": [
    "X_train.shape"
   ]
  },
  {
   "cell_type": "code",
   "execution_count": 50,
   "metadata": {},
   "outputs": [],
   "source": [
    "#Model"
   ]
  },
  {
   "cell_type": "code",
   "execution_count": 51,
   "metadata": {},
   "outputs": [],
   "source": [
    "from tensorflow.keras.models import Sequential\n",
    "from tensorflow.keras.layers import Dense,LSTM"
   ]
  },
  {
   "cell_type": "code",
   "execution_count": 55,
   "metadata": {},
   "outputs": [],
   "source": [
    "model=Sequential()\n",
    "model.add(LSTM(50,return_sequences=True,input_shape=(100,1)))\n",
    "model.add(LSTM(50,return_sequences=True))\n",
    "model.add(LSTM(50))\n",
    "model.add(Dense(1))\n",
    "model.compile(loss='mse',optimizer='adam')"
   ]
  },
  {
   "cell_type": "code",
   "execution_count": 56,
   "metadata": {},
   "outputs": [
    {
     "name": "stdout",
     "output_type": "stream",
     "text": [
      "Model: \"sequential_1\"\n",
      "_________________________________________________________________\n",
      " Layer (type)                Output Shape              Param #   \n",
      "=================================================================\n",
      " lstm_3 (LSTM)               (None, 100, 50)           10400     \n",
      "                                                                 \n",
      " lstm_4 (LSTM)               (None, 100, 50)           20200     \n",
      "                                                                 \n",
      " lstm_5 (LSTM)               (None, 50)                20200     \n",
      "                                                                 \n",
      " dense_1 (Dense)             (None, 1)                 51        \n",
      "                                                                 \n",
      "=================================================================\n",
      "Total params: 50,851\n",
      "Trainable params: 50,851\n",
      "Non-trainable params: 0\n",
      "_________________________________________________________________\n"
     ]
    }
   ],
   "source": [
    "model.summary()"
   ]
  },
  {
   "cell_type": "code",
   "execution_count": 57,
   "metadata": {},
   "outputs": [
    {
     "name": "stdout",
     "output_type": "stream",
     "text": [
      "Epoch 1/100\n",
      "12/12 [==============================] - 32s 336ms/step - loss: 0.0340 - val_loss: 8.4821e-04\n",
      "Epoch 2/100\n",
      "12/12 [==============================] - 1s 63ms/step - loss: 0.0123 - val_loss: 0.0013\n",
      "Epoch 3/100\n",
      "12/12 [==============================] - 2s 173ms/step - loss: 0.0098 - val_loss: 5.0279e-04\n",
      "Epoch 4/100\n",
      "12/12 [==============================] - 2s 141ms/step - loss: 0.0083 - val_loss: 4.6243e-04\n",
      "Epoch 5/100\n",
      "12/12 [==============================] - 3s 308ms/step - loss: 0.0076 - val_loss: 5.0706e-04\n",
      "Epoch 6/100\n",
      "12/12 [==============================] - 3s 305ms/step - loss: 0.0072 - val_loss: 0.0023\n",
      "Epoch 7/100\n",
      "12/12 [==============================] - 2s 213ms/step - loss: 0.0073 - val_loss: 6.1578e-04\n",
      "Epoch 8/100\n",
      "12/12 [==============================] - 53s 5s/step - loss: 0.0062 - val_loss: 0.0012\n",
      "Epoch 9/100\n",
      "12/12 [==============================] - 1s 81ms/step - loss: 0.0056 - val_loss: 3.4356e-04\n",
      "Epoch 10/100\n",
      "12/12 [==============================] - 1s 96ms/step - loss: 0.0055 - val_loss: 2.7539e-04\n",
      "Epoch 11/100\n",
      "12/12 [==============================] - 1s 91ms/step - loss: 0.0047 - val_loss: 3.4121e-04\n",
      "Epoch 12/100\n",
      "12/12 [==============================] - 1s 70ms/step - loss: 0.0046 - val_loss: 2.7852e-04\n",
      "Epoch 13/100\n",
      "12/12 [==============================] - 1s 65ms/step - loss: 0.0042 - val_loss: 4.1759e-04\n",
      "Epoch 14/100\n",
      "12/12 [==============================] - 1s 54ms/step - loss: 0.0045 - val_loss: 2.7616e-04\n",
      "Epoch 15/100\n",
      "12/12 [==============================] - 1s 59ms/step - loss: 0.0039 - val_loss: 2.5066e-04\n",
      "Epoch 16/100\n",
      "12/12 [==============================] - 1s 58ms/step - loss: 0.0038 - val_loss: 6.2201e-04\n",
      "Epoch 17/100\n",
      "12/12 [==============================] - 1s 60ms/step - loss: 0.0054 - val_loss: 2.6066e-04\n",
      "Epoch 18/100\n",
      "12/12 [==============================] - 1s 56ms/step - loss: 0.0038 - val_loss: 4.6101e-04\n",
      "Epoch 19/100\n",
      "12/12 [==============================] - 1s 70ms/step - loss: 0.0032 - val_loss: 2.9489e-04\n",
      "Epoch 20/100\n",
      "12/12 [==============================] - 1s 61ms/step - loss: 0.0031 - val_loss: 3.2918e-04\n",
      "Epoch 21/100\n",
      "12/12 [==============================] - 1s 57ms/step - loss: 0.0028 - val_loss: 2.4955e-04\n",
      "Epoch 22/100\n",
      "12/12 [==============================] - 1s 68ms/step - loss: 0.0028 - val_loss: 2.8582e-04\n",
      "Epoch 23/100\n",
      "12/12 [==============================] - 1s 66ms/step - loss: 0.0034 - val_loss: 2.7157e-04\n",
      "Epoch 24/100\n",
      "12/12 [==============================] - 1s 63ms/step - loss: 0.0044 - val_loss: 2.4125e-04\n",
      "Epoch 25/100\n",
      "12/12 [==============================] - 1s 62ms/step - loss: 0.0034 - val_loss: 3.0728e-04\n",
      "Epoch 26/100\n",
      "12/12 [==============================] - 1s 65ms/step - loss: 0.0027 - val_loss: 2.2258e-04\n",
      "Epoch 27/100\n",
      "12/12 [==============================] - 1s 58ms/step - loss: 0.0024 - val_loss: 2.3016e-04\n",
      "Epoch 28/100\n",
      "12/12 [==============================] - 1s 60ms/step - loss: 0.0023 - val_loss: 2.4064e-04\n",
      "Epoch 29/100\n",
      "12/12 [==============================] - 1s 56ms/step - loss: 0.0023 - val_loss: 2.3769e-04\n",
      "Epoch 30/100\n",
      "12/12 [==============================] - 1s 57ms/step - loss: 0.0023 - val_loss: 2.1617e-04\n",
      "Epoch 31/100\n",
      "12/12 [==============================] - 1s 57ms/step - loss: 0.0020 - val_loss: 2.1150e-04\n",
      "Epoch 32/100\n",
      "12/12 [==============================] - 1s 59ms/step - loss: 0.0021 - val_loss: 2.2918e-04\n",
      "Epoch 33/100\n",
      "12/12 [==============================] - 1s 58ms/step - loss: 0.0020 - val_loss: 2.0676e-04\n",
      "Epoch 34/100\n",
      "12/12 [==============================] - 1s 59ms/step - loss: 0.0021 - val_loss: 2.2014e-04\n",
      "Epoch 35/100\n",
      "12/12 [==============================] - 1s 82ms/step - loss: 0.0023 - val_loss: 2.1915e-04\n",
      "Epoch 36/100\n",
      "12/12 [==============================] - 1s 60ms/step - loss: 0.0022 - val_loss: 2.1612e-04\n",
      "Epoch 37/100\n",
      "12/12 [==============================] - 1s 80ms/step - loss: 0.0020 - val_loss: 2.3750e-04\n",
      "Epoch 38/100\n",
      "12/12 [==============================] - 1s 83ms/step - loss: 0.0025 - val_loss: 4.2742e-04\n",
      "Epoch 39/100\n",
      "12/12 [==============================] - 1s 80ms/step - loss: 0.0028 - val_loss: 5.4287e-04\n",
      "Epoch 40/100\n",
      "12/12 [==============================] - 1s 87ms/step - loss: 0.0023 - val_loss: 2.3372e-04\n",
      "Epoch 41/100\n",
      "12/12 [==============================] - 1s 95ms/step - loss: 0.0022 - val_loss: 2.4354e-04\n",
      "Epoch 42/100\n",
      "12/12 [==============================] - 1s 70ms/step - loss: 0.0019 - val_loss: 2.1171e-04\n",
      "Epoch 43/100\n",
      "12/12 [==============================] - 1s 87ms/step - loss: 0.0022 - val_loss: 2.0397e-04\n",
      "Epoch 44/100\n",
      "12/12 [==============================] - 2s 129ms/step - loss: 0.0017 - val_loss: 2.0715e-04\n",
      "Epoch 45/100\n",
      "12/12 [==============================] - 1s 88ms/step - loss: 0.0018 - val_loss: 2.2639e-04\n",
      "Epoch 46/100\n",
      "12/12 [==============================] - 1s 95ms/step - loss: 0.0017 - val_loss: 2.5156e-04\n",
      "Epoch 47/100\n",
      "12/12 [==============================] - 1s 95ms/step - loss: 0.0023 - val_loss: 2.0946e-04\n",
      "Epoch 48/100\n",
      "12/12 [==============================] - 1s 98ms/step - loss: 0.0020 - val_loss: 1.9960e-04\n",
      "Epoch 49/100\n",
      "12/12 [==============================] - 1s 114ms/step - loss: 0.0020 - val_loss: 2.5564e-04\n",
      "Epoch 50/100\n",
      "12/12 [==============================] - 1s 104ms/step - loss: 0.0020 - val_loss: 1.9776e-04\n",
      "Epoch 51/100\n",
      "12/12 [==============================] - 1s 104ms/step - loss: 0.0018 - val_loss: 2.6346e-04\n",
      "Epoch 52/100\n",
      "12/12 [==============================] - 1s 76ms/step - loss: 0.0017 - val_loss: 2.0585e-04\n",
      "Epoch 53/100\n",
      "12/12 [==============================] - 1s 74ms/step - loss: 0.0017 - val_loss: 2.2991e-04\n",
      "Epoch 54/100\n",
      "12/12 [==============================] - 1s 79ms/step - loss: 0.0019 - val_loss: 4.0676e-04\n",
      "Epoch 55/100\n",
      "12/12 [==============================] - 1s 81ms/step - loss: 0.0032 - val_loss: 4.4623e-04\n",
      "Epoch 56/100\n",
      "12/12 [==============================] - 1s 108ms/step - loss: 0.0026 - val_loss: 2.0696e-04\n",
      "Epoch 57/100\n",
      "12/12 [==============================] - 1s 128ms/step - loss: 0.0019 - val_loss: 2.2234e-04\n",
      "Epoch 58/100\n",
      "12/12 [==============================] - 1s 114ms/step - loss: 0.0019 - val_loss: 2.5135e-04\n",
      "Epoch 59/100\n",
      "12/12 [==============================] - 1s 88ms/step - loss: 0.0026 - val_loss: 1.9988e-04\n",
      "Epoch 60/100\n",
      "12/12 [==============================] - 1s 84ms/step - loss: 0.0021 - val_loss: 1.8882e-04\n",
      "Epoch 61/100\n",
      "12/12 [==============================] - 1s 80ms/step - loss: 0.0016 - val_loss: 3.1155e-04\n",
      "Epoch 62/100\n",
      "12/12 [==============================] - 1s 62ms/step - loss: 0.0021 - val_loss: 3.1892e-04\n",
      "Epoch 63/100\n",
      "12/12 [==============================] - 1s 63ms/step - loss: 0.0018 - val_loss: 1.9553e-04\n",
      "Epoch 64/100\n",
      "12/12 [==============================] - 1s 66ms/step - loss: 0.0017 - val_loss: 2.2882e-04\n",
      "Epoch 65/100\n",
      "12/12 [==============================] - 1s 87ms/step - loss: 0.0014 - val_loss: 1.9046e-04\n",
      "Epoch 66/100\n",
      "12/12 [==============================] - 1s 96ms/step - loss: 0.0014 - val_loss: 1.9378e-04\n",
      "Epoch 67/100\n",
      "12/12 [==============================] - 1s 75ms/step - loss: 0.0014 - val_loss: 2.5669e-04\n",
      "Epoch 68/100\n",
      "12/12 [==============================] - 1s 70ms/step - loss: 0.0018 - val_loss: 2.0481e-04\n",
      "Epoch 69/100\n",
      "12/12 [==============================] - 1s 63ms/step - loss: 0.0015 - val_loss: 2.1098e-04\n",
      "Epoch 70/100\n",
      "12/12 [==============================] - 1s 61ms/step - loss: 0.0014 - val_loss: 1.8675e-04\n",
      "Epoch 71/100\n",
      "12/12 [==============================] - 1s 64ms/step - loss: 0.0013 - val_loss: 1.9339e-04\n",
      "Epoch 72/100\n",
      "12/12 [==============================] - 1s 69ms/step - loss: 0.0020 - val_loss: 8.2488e-04\n",
      "Epoch 73/100\n",
      "12/12 [==============================] - 1s 66ms/step - loss: 0.0026 - val_loss: 2.4982e-04\n",
      "Epoch 74/100\n",
      "12/12 [==============================] - 1s 60ms/step - loss: 0.0016 - val_loss: 1.9191e-04\n",
      "Epoch 75/100\n",
      "12/12 [==============================] - 1s 65ms/step - loss: 0.0015 - val_loss: 2.8011e-04\n",
      "Epoch 76/100\n",
      "12/12 [==============================] - 1s 68ms/step - loss: 0.0015 - val_loss: 1.9266e-04\n",
      "Epoch 77/100\n",
      "12/12 [==============================] - 1s 67ms/step - loss: 0.0015 - val_loss: 1.8519e-04\n",
      "Epoch 78/100\n",
      "12/12 [==============================] - 1s 64ms/step - loss: 0.0012 - val_loss: 1.8481e-04\n",
      "Epoch 79/100\n"
     ]
    },
    {
     "name": "stdout",
     "output_type": "stream",
     "text": [
      "12/12 [==============================] - 1s 103ms/step - loss: 0.0012 - val_loss: 2.7657e-04\n",
      "Epoch 80/100\n",
      "12/12 [==============================] - 2s 179ms/step - loss: 0.0013 - val_loss: 1.8195e-04\n",
      "Epoch 81/100\n",
      "12/12 [==============================] - 1s 74ms/step - loss: 0.0016 - val_loss: 1.9201e-04\n",
      "Epoch 82/100\n",
      "12/12 [==============================] - 1s 72ms/step - loss: 0.0012 - val_loss: 2.0575e-04\n",
      "Epoch 83/100\n",
      "12/12 [==============================] - 1s 79ms/step - loss: 0.0013 - val_loss: 1.9668e-04\n",
      "Epoch 84/100\n",
      "12/12 [==============================] - 1s 78ms/step - loss: 0.0030 - val_loss: 2.4612e-04\n",
      "Epoch 85/100\n",
      "12/12 [==============================] - 1s 76ms/step - loss: 0.0029 - val_loss: 2.7423e-04\n",
      "Epoch 86/100\n",
      "12/12 [==============================] - 1s 66ms/step - loss: 0.0024 - val_loss: 1.7985e-04\n",
      "Epoch 87/100\n",
      "12/12 [==============================] - 1s 63ms/step - loss: 0.0022 - val_loss: 2.1256e-04\n",
      "Epoch 88/100\n",
      "12/12 [==============================] - 1s 77ms/step - loss: 0.0020 - val_loss: 3.3766e-04\n",
      "Epoch 89/100\n",
      "12/12 [==============================] - 1s 69ms/step - loss: 0.0016 - val_loss: 1.9027e-04\n",
      "Epoch 90/100\n",
      "12/12 [==============================] - 1s 61ms/step - loss: 0.0016 - val_loss: 1.6849e-04\n",
      "Epoch 91/100\n",
      "12/12 [==============================] - 1s 68ms/step - loss: 0.0026 - val_loss: 2.1883e-04\n",
      "Epoch 92/100\n",
      "12/12 [==============================] - 1s 64ms/step - loss: 0.0017 - val_loss: 2.9690e-04\n",
      "Epoch 93/100\n",
      "12/12 [==============================] - 1s 64ms/step - loss: 0.0015 - val_loss: 1.8773e-04\n",
      "Epoch 94/100\n",
      "12/12 [==============================] - 1s 63ms/step - loss: 0.0012 - val_loss: 1.6529e-04\n",
      "Epoch 95/100\n",
      "12/12 [==============================] - 1s 62ms/step - loss: 0.0011 - val_loss: 1.6238e-04\n",
      "Epoch 96/100\n",
      "12/12 [==============================] - 1s 64ms/step - loss: 9.9718e-04 - val_loss: 1.6523e-04\n",
      "Epoch 97/100\n",
      "12/12 [==============================] - 1s 67ms/step - loss: 0.0010 - val_loss: 1.8288e-04\n",
      "Epoch 98/100\n",
      "12/12 [==============================] - 1s 78ms/step - loss: 9.3531e-04 - val_loss: 1.6666e-04\n",
      "Epoch 99/100\n",
      "12/12 [==============================] - 1s 63ms/step - loss: 8.8076e-04 - val_loss: 1.6159e-04\n",
      "Epoch 100/100\n",
      "12/12 [==============================] - 1s 60ms/step - loss: 9.6016e-04 - val_loss: 1.9450e-04\n"
     ]
    },
    {
     "data": {
      "text/plain": [
       "<keras.callbacks.History at 0x1f38c096460>"
      ]
     },
     "execution_count": 57,
     "metadata": {},
     "output_type": "execute_result"
    }
   ],
   "source": [
    "model.fit(X_train,y_train,validation_data=(x_test,y_test),epochs=100,batch_size=64,verbose=1)"
   ]
  },
  {
   "cell_type": "code",
   "execution_count": 58,
   "metadata": {},
   "outputs": [
    {
     "name": "stdout",
     "output_type": "stream",
     "text": [
      "23/23 [==============================] - 2s 18ms/step\n",
      "11/11 [==============================] - 0s 17ms/step\n"
     ]
    }
   ],
   "source": [
    "train_predict=model.predict(X_train)\n",
    "test_predict=model.predict(x_test)"
   ]
  },
  {
   "cell_type": "code",
   "execution_count": 59,
   "metadata": {},
   "outputs": [],
   "source": [
    "train_predict=scaler.inverse_transform(train_predict)\n",
    "test_predict=scaler.inverse_transform(test_predict)"
   ]
  },
  {
   "cell_type": "code",
   "execution_count": 60,
   "metadata": {},
   "outputs": [
    {
     "data": {
      "text/plain": [
       "228.08680837202837"
      ]
     },
     "execution_count": 60,
     "metadata": {},
     "output_type": "execute_result"
    }
   ],
   "source": [
    "import math\n",
    "from sklearn.metrics import mean_squared_error\n",
    "math.sqrt(mean_squared_error(y_train,train_predict))"
   ]
  },
  {
   "cell_type": "code",
   "execution_count": 61,
   "metadata": {},
   "outputs": [
    {
     "data": {
      "text/plain": [
       "156.99812938671687"
      ]
     },
     "execution_count": 61,
     "metadata": {},
     "output_type": "execute_result"
    }
   ],
   "source": [
    "math.sqrt(mean_squared_error(y_test,test_predict))"
   ]
  },
  {
   "cell_type": "code",
   "execution_count": 63,
   "metadata": {},
   "outputs": [
    {
     "data": {
      "image/png": "[encoded data removed]",
      "text/plain": [
       "<Figure size 432x288 with 1 Axes>"
      ]
     },
     "metadata": {
      "needs_background": "light"
     },
     "output_type": "display_data"
    }
   ],
   "source": [
    "### Plotting \n",
    "# shift train predictions for plotting\n",
    "look_back=100\n",
    "trainPredictPlot = np.empty_like(df1)\n",
    "trainPredictPlot[:, :] = np.nan\n",
    "trainPredictPlot[look_back:len(train_predict)+look_back, :] = train_predict\n",
    "# shift test predictions for plotting\n",
    "testPredictPlot = np.empty_like(df1)\n",
    "testPredictPlot[:, :] = np.nan\n",
    "testPredictPlot[len(train_predict)+(look_back*2)+1:len(df1)-1, :] = test_predict\n",
    "# plot baseline and predictions\n",
    "plt.plot(scaler.inverse_transform(df1))\n",
    "plt.plot(trainPredictPlot)\n",
    "plt.plot(testPredictPlot)\n",
    "plt.show()"
   ]
  },
  {
   "cell_type": "code",
   "execution_count": null,
   "metadata": {},
   "outputs": [],
   "source": []
  },
  {
   "cell_type": "code",
   "execution_count": null,
   "metadata": {},
   "outputs": [],
   "source": []
  }
 ],
 "metadata": {
  "kernelspec": {
   "display_name": "Python 3",
   "language": "python",
   "name": "python3"
  },
  "language_info": {
   "codemirror_mode": {
    "name": "ipython",
    "version": 3
   },
   "file_extension": ".py",
   "mimetype": "text/x-python",
   "name": "python",
   "nbconvert_exporter": "python",
   "pygments_lexer": "ipython3",
   "version": "3.8.2"
  }
 },
 "nbformat": 4,
 "nbformat_minor": 4
}
