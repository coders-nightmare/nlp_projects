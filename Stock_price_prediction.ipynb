{
 "cells": [
  {
   "cell_type": "markdown",
   "metadata": {},
   "source": [
    "# Stock Market Prediction and Forecasting using Stacked LSTM"
   ]
  },
  {
   "cell_type": "code",
   "execution_count": 1,
   "metadata": {},
   "outputs": [],
   "source": [
    "import pandas_datareader as pdr"
   ]
  },
  {
   "cell_type": "code",
   "execution_count": 2,
   "metadata": {},
   "outputs": [],
   "source": [
    "# !pip install python-dotenv"
   ]
  },
  {
   "cell_type": "code",
   "execution_count": 3,
   "metadata": {},
   "outputs": [],
   "source": [
    "from dotenv import load_dotenv\n",
    "import os\n",
    "\n",
    "# Load variables from .env file\n",
    "load_dotenv('.env')\n",
    "\n",
    "# Access the API key\n",
    "api_key = os.getenv('API_KEY')"
   ]
  },
  {
   "cell_type": "code",
   "execution_count": 4,
   "metadata": {},
   "outputs": [],
   "source": [
    "df=pdr.get_data_tiingo('AAPL',api_key=api_key)"
   ]
  },
  {
   "cell_type": "code",
   "execution_count": 5,
   "metadata": {},
   "outputs": [],
   "source": [
    "import pandas as pd"
   ]
  },
  {
   "cell_type": "code",
   "execution_count": 6,
   "metadata": {},
   "outputs": [],
   "source": [
    "df.to_csv('AAPL.csv')"
   ]
  },
  {
   "cell_type": "code",
   "execution_count": 7,
   "metadata": {},
   "outputs": [],
   "source": [
    "df=pd.read_csv('AAPL.csv')"
   ]
  },
  {
   "cell_type": "code",
   "execution_count": 8,
   "metadata": {},
   "outputs": [
    {
     "data": {
      "text/html": [
       "<div>\n",
       "<style scoped>\n",
       "    .dataframe tbody tr th:only-of-type {\n",
       "        vertical-align: middle;\n",
       "    }\n",
       "\n",
       "    .dataframe tbody tr th {\n",
       "        vertical-align: top;\n",
       "    }\n",
       "\n",
       "    .dataframe thead th {\n",
       "        text-align: right;\n",
       "    }\n",
       "</style>\n",
       "<table border=\"1\" class=\"dataframe\">\n",
       "  <thead>\n",
       "    <tr style=\"text-align: right;\">\n",
       "      <th></th>\n",
       "      <th>symbol</th>\n",
       "      <th>date</th>\n",
       "      <th>close</th>\n",
       "      <th>high</th>\n",
       "      <th>low</th>\n",
       "      <th>open</th>\n",
       "      <th>volume</th>\n",
       "      <th>adjClose</th>\n",
       "      <th>adjHigh</th>\n",
       "      <th>adjLow</th>\n",
       "      <th>adjOpen</th>\n",
       "      <th>adjVolume</th>\n",
       "      <th>divCash</th>\n",
       "      <th>splitFactor</th>\n",
       "    </tr>\n",
       "  </thead>\n",
       "  <tbody>\n",
       "    <tr>\n",
       "      <th>760</th>\n",
       "      <td>AAPL</td>\n",
       "      <td>2021-06-04 00:00:00+00:00</td>\n",
       "      <td>125.89</td>\n",
       "      <td>126.16</td>\n",
       "      <td>123.85</td>\n",
       "      <td>124.070</td>\n",
       "      <td>75169343</td>\n",
       "      <td>124.431076</td>\n",
       "      <td>124.697947</td>\n",
       "      <td>122.414717</td>\n",
       "      <td>122.632168</td>\n",
       "      <td>75169343</td>\n",
       "      <td>0.0</td>\n",
       "      <td>1.0</td>\n",
       "    </tr>\n",
       "    <tr>\n",
       "      <th>184</th>\n",
       "      <td>AAPL</td>\n",
       "      <td>2019-02-21 00:00:00+00:00</td>\n",
       "      <td>171.06</td>\n",
       "      <td>172.37</td>\n",
       "      <td>170.30</td>\n",
       "      <td>171.800</td>\n",
       "      <td>17249670</td>\n",
       "      <td>41.329641</td>\n",
       "      <td>41.646149</td>\n",
       "      <td>41.146019</td>\n",
       "      <td>41.508432</td>\n",
       "      <td>68998680</td>\n",
       "      <td>0.0</td>\n",
       "      <td>1.0</td>\n",
       "    </tr>\n",
       "    <tr>\n",
       "      <th>436</th>\n",
       "      <td>AAPL</td>\n",
       "      <td>2020-02-21 00:00:00+00:00</td>\n",
       "      <td>313.05</td>\n",
       "      <td>320.45</td>\n",
       "      <td>310.50</td>\n",
       "      <td>318.620</td>\n",
       "      <td>32426415</td>\n",
       "      <td>76.632132</td>\n",
       "      <td>78.443592</td>\n",
       "      <td>76.007912</td>\n",
       "      <td>77.995623</td>\n",
       "      <td>129705660</td>\n",
       "      <td>0.0</td>\n",
       "      <td>1.0</td>\n",
       "    </tr>\n",
       "    <tr>\n",
       "      <th>893</th>\n",
       "      <td>AAPL</td>\n",
       "      <td>2021-12-13 00:00:00+00:00</td>\n",
       "      <td>175.74</td>\n",
       "      <td>182.13</td>\n",
       "      <td>175.53</td>\n",
       "      <td>181.115</td>\n",
       "      <td>153237019</td>\n",
       "      <td>174.217854</td>\n",
       "      <td>180.552508</td>\n",
       "      <td>174.009673</td>\n",
       "      <td>179.546299</td>\n",
       "      <td>153237019</td>\n",
       "      <td>0.0</td>\n",
       "      <td>1.0</td>\n",
       "    </tr>\n",
       "    <tr>\n",
       "      <th>118</th>\n",
       "      <td>AAPL</td>\n",
       "      <td>2018-11-13 00:00:00+00:00</td>\n",
       "      <td>192.23</td>\n",
       "      <td>197.18</td>\n",
       "      <td>191.45</td>\n",
       "      <td>191.630</td>\n",
       "      <td>46882936</td>\n",
       "      <td>46.246395</td>\n",
       "      <td>47.437258</td>\n",
       "      <td>46.058744</td>\n",
       "      <td>46.102048</td>\n",
       "      <td>187531744</td>\n",
       "      <td>0.0</td>\n",
       "      <td>1.0</td>\n",
       "    </tr>\n",
       "  </tbody>\n",
       "</table>\n",
       "</div>"
      ],
      "text/plain": [
       "    symbol                       date   close    high     low     open  \\\n",
       "760   AAPL  2021-06-04 00:00:00+00:00  125.89  126.16  123.85  124.070   \n",
       "184   AAPL  2019-02-21 00:00:00+00:00  171.06  172.37  170.30  171.800   \n",
       "436   AAPL  2020-02-21 00:00:00+00:00  313.05  320.45  310.50  318.620   \n",
       "893   AAPL  2021-12-13 00:00:00+00:00  175.74  182.13  175.53  181.115   \n",
       "118   AAPL  2018-11-13 00:00:00+00:00  192.23  197.18  191.45  191.630   \n",
       "\n",
       "        volume    adjClose     adjHigh      adjLow     adjOpen  adjVolume  \\\n",
       "760   75169343  124.431076  124.697947  122.414717  122.632168   75169343   \n",
       "184   17249670   41.329641   41.646149   41.146019   41.508432   68998680   \n",
       "436   32426415   76.632132   78.443592   76.007912   77.995623  129705660   \n",
       "893  153237019  174.217854  180.552508  174.009673  179.546299  153237019   \n",
       "118   46882936   46.246395   47.437258   46.058744   46.102048  187531744   \n",
       "\n",
       "     divCash  splitFactor  \n",
       "760      0.0          1.0  \n",
       "184      0.0          1.0  \n",
       "436      0.0          1.0  \n",
       "893      0.0          1.0  \n",
       "118      0.0          1.0  "
      ]
     },
     "execution_count": 8,
     "metadata": {},
     "output_type": "execute_result"
    }
   ],
   "source": [
    "df.sample(5)"
   ]
  },
  {
   "cell_type": "code",
   "execution_count": 9,
   "metadata": {},
   "outputs": [
    {
     "data": {
      "text/html": [
       "<div>\n",
       "<style scoped>\n",
       "    .dataframe tbody tr th:only-of-type {\n",
       "        vertical-align: middle;\n",
       "    }\n",
       "\n",
       "    .dataframe tbody tr th {\n",
       "        vertical-align: top;\n",
       "    }\n",
       "\n",
       "    .dataframe thead th {\n",
       "        text-align: right;\n",
       "    }\n",
       "</style>\n",
       "<table border=\"1\" class=\"dataframe\">\n",
       "  <thead>\n",
       "    <tr style=\"text-align: right;\">\n",
       "      <th></th>\n",
       "      <th>symbol</th>\n",
       "      <th>date</th>\n",
       "      <th>close</th>\n",
       "      <th>high</th>\n",
       "      <th>low</th>\n",
       "      <th>open</th>\n",
       "      <th>volume</th>\n",
       "      <th>adjClose</th>\n",
       "      <th>adjHigh</th>\n",
       "      <th>adjLow</th>\n",
       "      <th>adjOpen</th>\n",
       "      <th>adjVolume</th>\n",
       "      <th>divCash</th>\n",
       "      <th>splitFactor</th>\n",
       "    </tr>\n",
       "  </thead>\n",
       "  <tbody>\n",
       "    <tr>\n",
       "      <th>1254</th>\n",
       "      <td>AAPL</td>\n",
       "      <td>2023-05-22 00:00:00+00:00</td>\n",
       "      <td>174.20</td>\n",
       "      <td>174.7100</td>\n",
       "      <td>173.450</td>\n",
       "      <td>173.98</td>\n",
       "      <td>43570932</td>\n",
       "      <td>174.20</td>\n",
       "      <td>174.7100</td>\n",
       "      <td>173.450</td>\n",
       "      <td>173.98</td>\n",
       "      <td>43570932</td>\n",
       "      <td>0.0</td>\n",
       "      <td>1.0</td>\n",
       "    </tr>\n",
       "    <tr>\n",
       "      <th>1255</th>\n",
       "      <td>AAPL</td>\n",
       "      <td>2023-05-23 00:00:00+00:00</td>\n",
       "      <td>171.56</td>\n",
       "      <td>173.3794</td>\n",
       "      <td>171.275</td>\n",
       "      <td>173.13</td>\n",
       "      <td>50747263</td>\n",
       "      <td>171.56</td>\n",
       "      <td>173.3794</td>\n",
       "      <td>171.275</td>\n",
       "      <td>173.13</td>\n",
       "      <td>50747263</td>\n",
       "      <td>0.0</td>\n",
       "      <td>1.0</td>\n",
       "    </tr>\n",
       "    <tr>\n",
       "      <th>1256</th>\n",
       "      <td>AAPL</td>\n",
       "      <td>2023-05-24 00:00:00+00:00</td>\n",
       "      <td>171.84</td>\n",
       "      <td>172.4183</td>\n",
       "      <td>170.520</td>\n",
       "      <td>171.09</td>\n",
       "      <td>45143488</td>\n",
       "      <td>171.84</td>\n",
       "      <td>172.4183</td>\n",
       "      <td>170.520</td>\n",
       "      <td>171.09</td>\n",
       "      <td>45143488</td>\n",
       "      <td>0.0</td>\n",
       "      <td>1.0</td>\n",
       "    </tr>\n",
       "    <tr>\n",
       "      <th>1257</th>\n",
       "      <td>AAPL</td>\n",
       "      <td>2023-05-25 00:00:00+00:00</td>\n",
       "      <td>172.99</td>\n",
       "      <td>173.8950</td>\n",
       "      <td>171.690</td>\n",
       "      <td>172.41</td>\n",
       "      <td>56058258</td>\n",
       "      <td>172.99</td>\n",
       "      <td>173.8950</td>\n",
       "      <td>171.690</td>\n",
       "      <td>172.41</td>\n",
       "      <td>56058258</td>\n",
       "      <td>0.0</td>\n",
       "      <td>1.0</td>\n",
       "    </tr>\n",
       "    <tr>\n",
       "      <th>1258</th>\n",
       "      <td>AAPL</td>\n",
       "      <td>2023-05-26 00:00:00+00:00</td>\n",
       "      <td>175.43</td>\n",
       "      <td>175.7700</td>\n",
       "      <td>173.110</td>\n",
       "      <td>173.32</td>\n",
       "      <td>54834975</td>\n",
       "      <td>175.43</td>\n",
       "      <td>175.7700</td>\n",
       "      <td>173.110</td>\n",
       "      <td>173.32</td>\n",
       "      <td>54834975</td>\n",
       "      <td>0.0</td>\n",
       "      <td>1.0</td>\n",
       "    </tr>\n",
       "  </tbody>\n",
       "</table>\n",
       "</div>"
      ],
      "text/plain": [
       "     symbol                       date   close      high      low    open  \\\n",
       "1254   AAPL  2023-05-22 00:00:00+00:00  174.20  174.7100  173.450  173.98   \n",
       "1255   AAPL  2023-05-23 00:00:00+00:00  171.56  173.3794  171.275  173.13   \n",
       "1256   AAPL  2023-05-24 00:00:00+00:00  171.84  172.4183  170.520  171.09   \n",
       "1257   AAPL  2023-05-25 00:00:00+00:00  172.99  173.8950  171.690  172.41   \n",
       "1258   AAPL  2023-05-26 00:00:00+00:00  175.43  175.7700  173.110  173.32   \n",
       "\n",
       "        volume  adjClose   adjHigh   adjLow  adjOpen  adjVolume  divCash  \\\n",
       "1254  43570932    174.20  174.7100  173.450   173.98   43570932      0.0   \n",
       "1255  50747263    171.56  173.3794  171.275   173.13   50747263      0.0   \n",
       "1256  45143488    171.84  172.4183  170.520   171.09   45143488      0.0   \n",
       "1257  56058258    172.99  173.8950  171.690   172.41   56058258      0.0   \n",
       "1258  54834975    175.43  175.7700  173.110   173.32   54834975      0.0   \n",
       "\n",
       "      splitFactor  \n",
       "1254          1.0  \n",
       "1255          1.0  \n",
       "1256          1.0  \n",
       "1257          1.0  \n",
       "1258          1.0  "
      ]
     },
     "execution_count": 9,
     "metadata": {},
     "output_type": "execute_result"
    }
   ],
   "source": [
    "df.tail()"
   ]
  },
  {
   "cell_type": "code",
   "execution_count": 10,
   "metadata": {},
   "outputs": [],
   "source": [
    "df1=df['close']"
   ]
  },
  {
   "cell_type": "code",
   "execution_count": 11,
   "metadata": {},
   "outputs": [
    {
     "data": {
      "text/plain": [
       "(1259,)"
      ]
     },
     "execution_count": 11,
     "metadata": {},
     "output_type": "execute_result"
    }
   ],
   "source": [
    "df1.shape"
   ]
  },
  {
   "cell_type": "code",
   "execution_count": 12,
   "metadata": {},
   "outputs": [],
   "source": [
    "#plotting close price "
   ]
  },
  {
   "cell_type": "code",
   "execution_count": 13,
   "metadata": {},
   "outputs": [
    {
     "data": {
      "image/png": "[encoded data removed]",
      "text/plain": [
       "<Figure size 432x288 with 1 Axes>"
      ]
     },
     "metadata": {
      "needs_background": "light"
     },
     "output_type": "display_data"
    }
   ],
   "source": [
    "import matplotlib.pyplot as plt\n",
    "plt.plot(df1)\n",
    "plt.show()"
   ]
  },
  {
   "cell_type": "code",
   "execution_count": 14,
   "metadata": {
    "scrolled": true
   },
   "outputs": [
    {
     "data": {
      "text/plain": [
       "0       187.90\n",
       "1       187.50\n",
       "2       186.87\n",
       "3       190.24\n",
       "4       191.83\n",
       "         ...  \n",
       "1254    174.20\n",
       "1255    171.56\n",
       "1256    171.84\n",
       "1257    172.99\n",
       "1258    175.43\n",
       "Name: close, Length: 1259, dtype: float64"
      ]
     },
     "execution_count": 14,
     "metadata": {},
     "output_type": "execute_result"
    }
   ],
   "source": [
    "df1"
   ]
  },
  {
   "cell_type": "code",
   "execution_count": 15,
   "metadata": {
    "scrolled": false
   },
   "outputs": [
    {
     "data": {
      "text/html": [
       "<div>\n",
       "<style scoped>\n",
       "    .dataframe tbody tr th:only-of-type {\n",
       "        vertical-align: middle;\n",
       "    }\n",
       "\n",
       "    .dataframe tbody tr th {\n",
       "        vertical-align: top;\n",
       "    }\n",
       "\n",
       "    .dataframe thead th {\n",
       "        text-align: right;\n",
       "    }\n",
       "</style>\n",
       "<table border=\"1\" class=\"dataframe\">\n",
       "  <thead>\n",
       "    <tr style=\"text-align: right;\">\n",
       "      <th></th>\n",
       "      <th>symbol</th>\n",
       "      <th>date</th>\n",
       "      <th>close</th>\n",
       "      <th>high</th>\n",
       "      <th>low</th>\n",
       "      <th>open</th>\n",
       "      <th>volume</th>\n",
       "      <th>adjClose</th>\n",
       "      <th>adjHigh</th>\n",
       "      <th>adjLow</th>\n",
       "      <th>adjOpen</th>\n",
       "      <th>adjVolume</th>\n",
       "      <th>divCash</th>\n",
       "      <th>splitFactor</th>\n",
       "    </tr>\n",
       "  </thead>\n",
       "  <tbody>\n",
       "    <tr>\n",
       "      <th>0</th>\n",
       "      <td>AAPL</td>\n",
       "      <td>2018-05-29 00:00:00+00:00</td>\n",
       "      <td>187.90</td>\n",
       "      <td>188.75</td>\n",
       "      <td>186.87</td>\n",
       "      <td>187.60</td>\n",
       "      <td>22514075</td>\n",
       "      <td>44.889064</td>\n",
       "      <td>45.092128</td>\n",
       "      <td>44.642999</td>\n",
       "      <td>44.817395</td>\n",
       "      <td>90056300</td>\n",
       "      <td>0.0</td>\n",
       "      <td>1.0</td>\n",
       "    </tr>\n",
       "    <tr>\n",
       "      <th>1</th>\n",
       "      <td>AAPL</td>\n",
       "      <td>2018-05-30 00:00:00+00:00</td>\n",
       "      <td>187.50</td>\n",
       "      <td>188.00</td>\n",
       "      <td>186.78</td>\n",
       "      <td>187.72</td>\n",
       "      <td>18690547</td>\n",
       "      <td>44.793505</td>\n",
       "      <td>44.912954</td>\n",
       "      <td>44.621498</td>\n",
       "      <td>44.846063</td>\n",
       "      <td>74762188</td>\n",
       "      <td>0.0</td>\n",
       "      <td>1.0</td>\n",
       "    </tr>\n",
       "    <tr>\n",
       "      <th>2</th>\n",
       "      <td>AAPL</td>\n",
       "      <td>2018-05-31 00:00:00+00:00</td>\n",
       "      <td>186.87</td>\n",
       "      <td>188.23</td>\n",
       "      <td>186.14</td>\n",
       "      <td>187.22</td>\n",
       "      <td>27482793</td>\n",
       "      <td>44.642999</td>\n",
       "      <td>44.967901</td>\n",
       "      <td>44.468603</td>\n",
       "      <td>44.726613</td>\n",
       "      <td>109931172</td>\n",
       "      <td>0.0</td>\n",
       "      <td>1.0</td>\n",
       "    </tr>\n",
       "    <tr>\n",
       "      <th>3</th>\n",
       "      <td>AAPL</td>\n",
       "      <td>2018-06-01 00:00:00+00:00</td>\n",
       "      <td>190.24</td>\n",
       "      <td>190.26</td>\n",
       "      <td>187.75</td>\n",
       "      <td>187.99</td>\n",
       "      <td>23442510</td>\n",
       "      <td>45.448087</td>\n",
       "      <td>45.452865</td>\n",
       "      <td>44.853230</td>\n",
       "      <td>44.910565</td>\n",
       "      <td>93770040</td>\n",
       "      <td>0.0</td>\n",
       "      <td>1.0</td>\n",
       "    </tr>\n",
       "    <tr>\n",
       "      <th>4</th>\n",
       "      <td>AAPL</td>\n",
       "      <td>2018-06-04 00:00:00+00:00</td>\n",
       "      <td>191.83</td>\n",
       "      <td>193.42</td>\n",
       "      <td>191.35</td>\n",
       "      <td>191.64</td>\n",
       "      <td>26266174</td>\n",
       "      <td>45.827936</td>\n",
       "      <td>46.207785</td>\n",
       "      <td>45.713265</td>\n",
       "      <td>45.782545</td>\n",
       "      <td>105064696</td>\n",
       "      <td>0.0</td>\n",
       "      <td>1.0</td>\n",
       "    </tr>\n",
       "  </tbody>\n",
       "</table>\n",
       "</div>"
      ],
      "text/plain": [
       "  symbol                       date   close    high     low    open    volume  \\\n",
       "0   AAPL  2018-05-29 00:00:00+00:00  187.90  188.75  186.87  187.60  22514075   \n",
       "1   AAPL  2018-05-30 00:00:00+00:00  187.50  188.00  186.78  187.72  18690547   \n",
       "2   AAPL  2018-05-31 00:00:00+00:00  186.87  188.23  186.14  187.22  27482793   \n",
       "3   AAPL  2018-06-01 00:00:00+00:00  190.24  190.26  187.75  187.99  23442510   \n",
       "4   AAPL  2018-06-04 00:00:00+00:00  191.83  193.42  191.35  191.64  26266174   \n",
       "\n",
       "    adjClose    adjHigh     adjLow    adjOpen  adjVolume  divCash  splitFactor  \n",
       "0  44.889064  45.092128  44.642999  44.817395   90056300      0.0          1.0  \n",
       "1  44.793505  44.912954  44.621498  44.846063   74762188      0.0          1.0  \n",
       "2  44.642999  44.967901  44.468603  44.726613  109931172      0.0          1.0  \n",
       "3  45.448087  45.452865  44.853230  44.910565   93770040      0.0          1.0  \n",
       "4  45.827936  46.207785  45.713265  45.782545  105064696      0.0          1.0  "
      ]
     },
     "execution_count": 15,
     "metadata": {},
     "output_type": "execute_result"
    }
   ],
   "source": [
    "df.head()"
   ]
  },
  {
   "cell_type": "code",
   "execution_count": 16,
   "metadata": {
    "scrolled": true
   },
   "outputs": [
    {
     "data": {
      "text/html": [
       "<div>\n",
       "<style scoped>\n",
       "    .dataframe tbody tr th:only-of-type {\n",
       "        vertical-align: middle;\n",
       "    }\n",
       "\n",
       "    .dataframe tbody tr th {\n",
       "        vertical-align: top;\n",
       "    }\n",
       "\n",
       "    .dataframe thead th {\n",
       "        text-align: right;\n",
       "    }\n",
       "</style>\n",
       "<table border=\"1\" class=\"dataframe\">\n",
       "  <thead>\n",
       "    <tr style=\"text-align: right;\">\n",
       "      <th></th>\n",
       "      <th>symbol</th>\n",
       "      <th>date</th>\n",
       "      <th>close</th>\n",
       "      <th>high</th>\n",
       "      <th>low</th>\n",
       "      <th>open</th>\n",
       "      <th>volume</th>\n",
       "      <th>adjClose</th>\n",
       "      <th>adjHigh</th>\n",
       "      <th>adjLow</th>\n",
       "      <th>adjOpen</th>\n",
       "      <th>adjVolume</th>\n",
       "      <th>divCash</th>\n",
       "      <th>splitFactor</th>\n",
       "    </tr>\n",
       "  </thead>\n",
       "  <tbody>\n",
       "    <tr>\n",
       "      <th>1254</th>\n",
       "      <td>AAPL</td>\n",
       "      <td>2023-05-22 00:00:00+00:00</td>\n",
       "      <td>174.20</td>\n",
       "      <td>174.7100</td>\n",
       "      <td>173.450</td>\n",
       "      <td>173.98</td>\n",
       "      <td>43570932</td>\n",
       "      <td>174.20</td>\n",
       "      <td>174.7100</td>\n",
       "      <td>173.450</td>\n",
       "      <td>173.98</td>\n",
       "      <td>43570932</td>\n",
       "      <td>0.0</td>\n",
       "      <td>1.0</td>\n",
       "    </tr>\n",
       "    <tr>\n",
       "      <th>1255</th>\n",
       "      <td>AAPL</td>\n",
       "      <td>2023-05-23 00:00:00+00:00</td>\n",
       "      <td>171.56</td>\n",
       "      <td>173.3794</td>\n",
       "      <td>171.275</td>\n",
       "      <td>173.13</td>\n",
       "      <td>50747263</td>\n",
       "      <td>171.56</td>\n",
       "      <td>173.3794</td>\n",
       "      <td>171.275</td>\n",
       "      <td>173.13</td>\n",
       "      <td>50747263</td>\n",
       "      <td>0.0</td>\n",
       "      <td>1.0</td>\n",
       "    </tr>\n",
       "    <tr>\n",
       "      <th>1256</th>\n",
       "      <td>AAPL</td>\n",
       "      <td>2023-05-24 00:00:00+00:00</td>\n",
       "      <td>171.84</td>\n",
       "      <td>172.4183</td>\n",
       "      <td>170.520</td>\n",
       "      <td>171.09</td>\n",
       "      <td>45143488</td>\n",
       "      <td>171.84</td>\n",
       "      <td>172.4183</td>\n",
       "      <td>170.520</td>\n",
       "      <td>171.09</td>\n",
       "      <td>45143488</td>\n",
       "      <td>0.0</td>\n",
       "      <td>1.0</td>\n",
       "    </tr>\n",
       "    <tr>\n",
       "      <th>1257</th>\n",
       "      <td>AAPL</td>\n",
       "      <td>2023-05-25 00:00:00+00:00</td>\n",
       "      <td>172.99</td>\n",
       "      <td>173.8950</td>\n",
       "      <td>171.690</td>\n",
       "      <td>172.41</td>\n",
       "      <td>56058258</td>\n",
       "      <td>172.99</td>\n",
       "      <td>173.8950</td>\n",
       "      <td>171.690</td>\n",
       "      <td>172.41</td>\n",
       "      <td>56058258</td>\n",
       "      <td>0.0</td>\n",
       "      <td>1.0</td>\n",
       "    </tr>\n",
       "    <tr>\n",
       "      <th>1258</th>\n",
       "      <td>AAPL</td>\n",
       "      <td>2023-05-26 00:00:00+00:00</td>\n",
       "      <td>175.43</td>\n",
       "      <td>175.7700</td>\n",
       "      <td>173.110</td>\n",
       "      <td>173.32</td>\n",
       "      <td>54834975</td>\n",
       "      <td>175.43</td>\n",
       "      <td>175.7700</td>\n",
       "      <td>173.110</td>\n",
       "      <td>173.32</td>\n",
       "      <td>54834975</td>\n",
       "      <td>0.0</td>\n",
       "      <td>1.0</td>\n",
       "    </tr>\n",
       "  </tbody>\n",
       "</table>\n",
       "</div>"
      ],
      "text/plain": [
       "     symbol                       date   close      high      low    open  \\\n",
       "1254   AAPL  2023-05-22 00:00:00+00:00  174.20  174.7100  173.450  173.98   \n",
       "1255   AAPL  2023-05-23 00:00:00+00:00  171.56  173.3794  171.275  173.13   \n",
       "1256   AAPL  2023-05-24 00:00:00+00:00  171.84  172.4183  170.520  171.09   \n",
       "1257   AAPL  2023-05-25 00:00:00+00:00  172.99  173.8950  171.690  172.41   \n",
       "1258   AAPL  2023-05-26 00:00:00+00:00  175.43  175.7700  173.110  173.32   \n",
       "\n",
       "        volume  adjClose   adjHigh   adjLow  adjOpen  adjVolume  divCash  \\\n",
       "1254  43570932    174.20  174.7100  173.450   173.98   43570932      0.0   \n",
       "1255  50747263    171.56  173.3794  171.275   173.13   50747263      0.0   \n",
       "1256  45143488    171.84  172.4183  170.520   171.09   45143488      0.0   \n",
       "1257  56058258    172.99  173.8950  171.690   172.41   56058258      0.0   \n",
       "1258  54834975    175.43  175.7700  173.110   173.32   54834975      0.0   \n",
       "\n",
       "      splitFactor  \n",
       "1254          1.0  \n",
       "1255          1.0  \n",
       "1256          1.0  \n",
       "1257          1.0  \n",
       "1258          1.0  "
      ]
     },
     "execution_count": 16,
     "metadata": {},
     "output_type": "execute_result"
    }
   ],
   "source": [
    "df.tail()"
   ]
  },
  {
   "cell_type": "code",
   "execution_count": 17,
   "metadata": {},
   "outputs": [],
   "source": [
    "#scaling data of lstm because lstm are sensitive to scale of data"
   ]
  },
  {
   "cell_type": "code",
   "execution_count": 18,
   "metadata": {},
   "outputs": [],
   "source": [
    "import numpy as np\n",
    "from sklearn.preprocessing import MinMaxScaler"
   ]
  },
  {
   "cell_type": "code",
   "execution_count": 19,
   "metadata": {},
   "outputs": [],
   "source": [
    "scaler=MinMaxScaler(feature_range=(0,1))\n",
    "df1=scaler.fit_transform(np.array(df1).reshape(-1,1))"
   ]
  },
  {
   "cell_type": "code",
   "execution_count": 20,
   "metadata": {},
   "outputs": [
    {
     "data": {
      "text/plain": [
       "(1259, 1)"
      ]
     },
     "execution_count": 20,
     "metadata": {},
     "output_type": "execute_result"
    }
   ],
   "source": [
    "df1.shape"
   ]
  },
  {
   "cell_type": "code",
   "execution_count": 21,
   "metadata": {
    "scrolled": true
   },
   "outputs": [
    {
     "data": {
      "image/png": "[encoded data removed]",
      "text/plain": [
       "<Figure size 432x288 with 1 Axes>"
      ]
     },
     "metadata": {
      "needs_background": "light"
     },
     "output_type": "display_data"
    }
   ],
   "source": [
    "plt.plot(df1)\n",
    "plt.show()"
   ]
  },
  {
   "cell_type": "code",
   "execution_count": 22,
   "metadata": {},
   "outputs": [],
   "source": [
    "#In lstm lets say if we keep 1month data as train data \n",
    "#then rest of data becomes test data i.e 31st data get predicted\n",
    "#on previous 30 days and this pattern follows for rest of data \n",
    "#also learnig happens on the data available and data predicted"
   ]
  },
  {
   "cell_type": "code",
   "execution_count": 23,
   "metadata": {},
   "outputs": [],
   "source": [
    "#splitting dataset into train and test split\n",
    "training_size=int(len(df1)*0.65)\n",
    "test_size=len(df1)-training_size\n",
    "train_data,test_data=df1[0:training_size,:],df1[training_size:len(df1),:1]"
   ]
  },
  {
   "cell_type": "code",
   "execution_count": 24,
   "metadata": {},
   "outputs": [
    {
     "data": {
      "text/plain": [
       "(818, 441)"
      ]
     },
     "execution_count": 24,
     "metadata": {},
     "output_type": "execute_result"
    }
   ],
   "source": [
    "training_size,test_size"
   ]
  },
  {
   "cell_type": "code",
   "execution_count": 25,
   "metadata": {},
   "outputs": [],
   "source": [
    "#convert an array of values into a dataset matrix\n",
    "def create_dataset(dataset,time_step=1):\n",
    "    dataX,dataY=[],[]\n",
    "    for i in range(len(dataset)-time_step-1): #0,1,2...,99\n",
    "        a=dataset[i:(i+time_step),0]\n",
    "        dataX.append(a)\n",
    "        dataY.append(dataset[i+time_step,0]) #100\n",
    "    return np.array(dataX),np.array(dataY)"
   ]
  },
  {
   "cell_type": "code",
   "execution_count": 26,
   "metadata": {},
   "outputs": [],
   "source": [
    "#reshape into X=t, t+1, t+2, t+3 and Y=t+4\n",
    "time_step=100\n",
    "X_train,y_train=create_dataset(train_data,time_step)\n",
    "x_test,y_test=create_dataset(test_data,time_step)"
   ]
  },
  {
   "cell_type": "code",
   "execution_count": 27,
   "metadata": {},
   "outputs": [
    {
     "data": {
      "text/plain": [
       "array([[0.20303068, 0.2020288 , 0.20045085, ..., 0.27681904, 0.28881653,\n",
       "        0.28641202],\n",
       "       [0.2020288 , 0.20045085, 0.20889167, ..., 0.28881653, 0.28641202,\n",
       "        0.27346274],\n",
       "       [0.20045085, 0.20889167, 0.21287414, ..., 0.28641202, 0.27346274,\n",
       "        0.28170319],\n",
       "       ...,\n",
       "       [0.03271133, 0.0383469 , 0.04047589, ..., 0.10857858, 0.0989856 ,\n",
       "        0.09983719],\n",
       "       [0.0383469 , 0.04047589, 0.04773951, ..., 0.0989856 , 0.09983719,\n",
       "        0.10356919],\n",
       "       [0.04047589, 0.04773951, 0.04851597, ..., 0.09983719, 0.10356919,\n",
       "        0.10737633]])"
      ]
     },
     "execution_count": 27,
     "metadata": {},
     "output_type": "execute_result"
    }
   ],
   "source": [
    "X_train"
   ]
  },
  {
   "cell_type": "code",
   "execution_count": 28,
   "metadata": {},
   "outputs": [
    {
     "data": {
      "text/plain": [
       "(717, 100)"
      ]
     },
     "execution_count": 28,
     "metadata": {},
     "output_type": "execute_result"
    }
   ],
   "source": [
    "X_train.shape"
   ]
  },
  {
   "cell_type": "code",
   "execution_count": 29,
   "metadata": {},
   "outputs": [
    {
     "data": {
      "text/plain": [
       "(717,)"
      ]
     },
     "execution_count": 29,
     "metadata": {},
     "output_type": "execute_result"
    }
   ],
   "source": [
    "y_train.shape"
   ]
  },
  {
   "cell_type": "code",
   "execution_count": 30,
   "metadata": {},
   "outputs": [],
   "source": [
    "# for Lstm reshape input to be [samples, time steps, features]\n",
    "X_train=X_train.reshape(X_train.shape[0],X_train.shape[1],1)\n",
    "x_test=x_test.reshape(x_test.shape[0],x_test.shape[1],1)"
   ]
  },
  {
   "cell_type": "code",
   "execution_count": 31,
   "metadata": {},
   "outputs": [
    {
     "data": {
      "text/plain": [
       "(717, 100, 1)"
      ]
     },
     "execution_count": 31,
     "metadata": {},
     "output_type": "execute_result"
    }
   ],
   "source": [
    "X_train.shape"
   ]
  },
  {
   "cell_type": "code",
   "execution_count": 32,
   "metadata": {},
   "outputs": [],
   "source": [
    "#Model"
   ]
  },
  {
   "cell_type": "code",
   "execution_count": 33,
   "metadata": {},
   "outputs": [],
   "source": [
    "from tensorflow.keras.models import Sequential\n",
    "from tensorflow.keras.layers import Dense,LSTM"
   ]
  },
  {
   "cell_type": "code",
   "execution_count": 34,
   "metadata": {},
   "outputs": [],
   "source": [
    "model=Sequential()\n",
    "model.add(LSTM(50,return_sequences=True,input_shape=(100,1)))\n",
    "model.add(LSTM(50,return_sequences=True))\n",
    "model.add(LSTM(50))\n",
    "model.add(Dense(1))\n",
    "model.compile(loss='mse',optimizer='adam')"
   ]
  },
  {
   "cell_type": "code",
   "execution_count": 35,
   "metadata": {},
   "outputs": [
    {
     "name": "stdout",
     "output_type": "stream",
     "text": [
      "Model: \"sequential\"\n",
      "_________________________________________________________________\n",
      " Layer (type)                Output Shape              Param #   \n",
      "=================================================================\n",
      " lstm (LSTM)                 (None, 100, 50)           10400     \n",
      "                                                                 \n",
      " lstm_1 (LSTM)               (None, 100, 50)           20200     \n",
      "                                                                 \n",
      " lstm_2 (LSTM)               (None, 50)                20200     \n",
      "                                                                 \n",
      " dense (Dense)               (None, 1)                 51        \n",
      "                                                                 \n",
      "=================================================================\n",
      "Total params: 50,851\n",
      "Trainable params: 50,851\n",
      "Non-trainable params: 0\n",
      "_________________________________________________________________\n"
     ]
    }
   ],
   "source": [
    "model.summary()"
   ]
  },
  {
   "cell_type": "code",
   "execution_count": 36,
   "metadata": {},
   "outputs": [
    {
     "name": "stdout",
     "output_type": "stream",
     "text": [
      "Epoch 1/100\n",
      "12/12 [==============================] - 39s 290ms/step - loss: 0.0426 - val_loss: 0.0019\n",
      "Epoch 2/100\n",
      "12/12 [==============================] - 1s 51ms/step - loss: 0.0131 - val_loss: 0.0020\n",
      "Epoch 3/100\n",
      "12/12 [==============================] - 1s 51ms/step - loss: 0.0100 - val_loss: 6.7709e-04\n",
      "Epoch 4/100\n",
      "12/12 [==============================] - 1s 51ms/step - loss: 0.0089 - val_loss: 0.0012\n",
      "Epoch 5/100\n",
      "12/12 [==============================] - 1s 51ms/step - loss: 0.0082 - val_loss: 5.2109e-04\n",
      "Epoch 6/100\n",
      "12/12 [==============================] - 1s 52ms/step - loss: 0.0076 - val_loss: 0.0011\n",
      "Epoch 7/100\n",
      "12/12 [==============================] - 1s 50ms/step - loss: 0.0062 - val_loss: 8.4231e-04\n",
      "Epoch 8/100\n",
      "12/12 [==============================] - 1s 52ms/step - loss: 0.0058 - val_loss: 3.4254e-04\n",
      "Epoch 9/100\n",
      "12/12 [==============================] - 1s 54ms/step - loss: 0.0058 - val_loss: 4.8695e-04\n",
      "Epoch 10/100\n",
      "12/12 [==============================] - 1s 53ms/step - loss: 0.0054 - val_loss: 3.8666e-04\n",
      "Epoch 11/100\n",
      "12/12 [==============================] - 1s 54ms/step - loss: 0.0040 - val_loss: 3.8503e-04\n",
      "Epoch 12/100\n",
      "12/12 [==============================] - 1s 53ms/step - loss: 0.0042 - val_loss: 2.6328e-04\n",
      "Epoch 13/100\n",
      "12/12 [==============================] - 1s 52ms/step - loss: 0.0038 - val_loss: 2.9484e-04\n",
      "Epoch 14/100\n",
      "12/12 [==============================] - 1s 53ms/step - loss: 0.0036 - val_loss: 2.9160e-04\n",
      "Epoch 15/100\n",
      "12/12 [==============================] - 1s 51ms/step - loss: 0.0033 - val_loss: 2.7497e-04\n",
      "Epoch 16/100\n",
      "12/12 [==============================] - 1s 55ms/step - loss: 0.0031 - val_loss: 2.4928e-04\n",
      "Epoch 17/100\n",
      "12/12 [==============================] - 1s 57ms/step - loss: 0.0041 - val_loss: 7.4970e-04\n",
      "Epoch 18/100\n",
      "12/12 [==============================] - 1s 51ms/step - loss: 0.0034 - val_loss: 4.6111e-04\n",
      "Epoch 19/100\n",
      "12/12 [==============================] - 1s 53ms/step - loss: 0.0025 - val_loss: 3.5350e-04\n",
      "Epoch 20/100\n",
      "12/12 [==============================] - 1s 56ms/step - loss: 0.0028 - val_loss: 2.8825e-04\n",
      "Epoch 21/100\n",
      "12/12 [==============================] - 1s 56ms/step - loss: 0.0027 - val_loss: 5.6667e-04\n",
      "Epoch 22/100\n",
      "12/12 [==============================] - 1s 56ms/step - loss: 0.0023 - val_loss: 2.7217e-04\n",
      "Epoch 23/100\n",
      "12/12 [==============================] - 1s 59ms/step - loss: 0.0021 - val_loss: 2.8002e-04\n",
      "Epoch 24/100\n",
      "12/12 [==============================] - 1s 66ms/step - loss: 0.0029 - val_loss: 2.4356e-04\n",
      "Epoch 25/100\n",
      "12/12 [==============================] - 1s 61ms/step - loss: 0.0023 - val_loss: 3.0663e-04\n",
      "Epoch 26/100\n",
      "12/12 [==============================] - 1s 62ms/step - loss: 0.0020 - val_loss: 2.7124e-04\n",
      "Epoch 27/100\n",
      "12/12 [==============================] - 1s 68ms/step - loss: 0.0022 - val_loss: 3.2295e-04\n",
      "Epoch 28/100\n",
      "12/12 [==============================] - 3s 300ms/step - loss: 0.0020 - val_loss: 2.6079e-04\n",
      "Epoch 29/100\n",
      "12/12 [==============================] - 1s 69ms/step - loss: 0.0019 - val_loss: 2.4759e-04\n",
      "Epoch 30/100\n",
      "12/12 [==============================] - 1s 95ms/step - loss: 0.0024 - val_loss: 2.4159e-04\n",
      "Epoch 31/100\n",
      "12/12 [==============================] - 1s 75ms/step - loss: 0.0018 - val_loss: 2.5001e-04\n",
      "Epoch 32/100\n",
      "12/12 [==============================] - 1s 86ms/step - loss: 0.0019 - val_loss: 3.9760e-04\n",
      "Epoch 33/100\n",
      "12/12 [==============================] - 1s 132ms/step - loss: 0.0021 - val_loss: 3.6320e-04\n",
      "Epoch 34/100\n",
      "12/12 [==============================] - 2s 189ms/step - loss: 0.0021 - val_loss: 2.6890e-04\n",
      "Epoch 35/100\n",
      "12/12 [==============================] - 1s 57ms/step - loss: 0.0020 - val_loss: 2.5217e-04\n",
      "Epoch 36/100\n",
      "12/12 [==============================] - 1s 114ms/step - loss: 0.0017 - val_loss: 2.4030e-04\n",
      "Epoch 37/100\n",
      "12/12 [==============================] - 2s 185ms/step - loss: 0.0017 - val_loss: 3.1033e-04\n",
      "Epoch 38/100\n",
      "12/12 [==============================] - 1s 67ms/step - loss: 0.0021 - val_loss: 2.9031e-04\n",
      "Epoch 39/100\n",
      "12/12 [==============================] - 1s 57ms/step - loss: 0.0016 - val_loss: 4.2004e-04\n",
      "Epoch 40/100\n",
      "12/12 [==============================] - 1s 57ms/step - loss: 0.0020 - val_loss: 2.4451e-04\n",
      "Epoch 41/100\n",
      "12/12 [==============================] - 1s 54ms/step - loss: 0.0020 - val_loss: 4.4115e-04\n",
      "Epoch 42/100\n",
      "12/12 [==============================] - 1s 55ms/step - loss: 0.0018 - val_loss: 2.3753e-04\n",
      "Epoch 43/100\n",
      "12/12 [==============================] - 1s 57ms/step - loss: 0.0020 - val_loss: 2.7378e-04\n",
      "Epoch 44/100\n",
      "12/12 [==============================] - 1s 60ms/step - loss: 0.0027 - val_loss: 3.3938e-04\n",
      "Epoch 45/100\n",
      "12/12 [==============================] - 1s 60ms/step - loss: 0.0021 - val_loss: 3.3287e-04\n",
      "Epoch 46/100\n",
      "12/12 [==============================] - 1s 57ms/step - loss: 0.0020 - val_loss: 2.4600e-04\n",
      "Epoch 47/100\n",
      "12/12 [==============================] - 1s 58ms/step - loss: 0.0025 - val_loss: 2.5396e-04\n",
      "Epoch 48/100\n",
      "12/12 [==============================] - 1s 56ms/step - loss: 0.0040 - val_loss: 4.2652e-04\n",
      "Epoch 49/100\n",
      "12/12 [==============================] - 1s 55ms/step - loss: 0.0031 - val_loss: 3.0165e-04\n",
      "Epoch 50/100\n",
      "12/12 [==============================] - 1s 56ms/step - loss: 0.0021 - val_loss: 5.5716e-04\n",
      "Epoch 51/100\n",
      "12/12 [==============================] - 1s 64ms/step - loss: 0.0018 - val_loss: 2.9388e-04\n",
      "Epoch 52/100\n",
      "12/12 [==============================] - 1s 57ms/step - loss: 0.0018 - val_loss: 4.2141e-04\n",
      "Epoch 53/100\n",
      "12/12 [==============================] - 1s 56ms/step - loss: 0.0018 - val_loss: 5.3753e-04\n",
      "Epoch 54/100\n",
      "12/12 [==============================] - 1s 57ms/step - loss: 0.0019 - val_loss: 2.4965e-04\n",
      "Epoch 55/100\n",
      "12/12 [==============================] - 1s 56ms/step - loss: 0.0016 - val_loss: 2.4684e-04\n",
      "Epoch 56/100\n",
      "12/12 [==============================] - 1s 55ms/step - loss: 0.0016 - val_loss: 5.0779e-04\n",
      "Epoch 57/100\n",
      "12/12 [==============================] - 1s 58ms/step - loss: 0.0014 - val_loss: 2.5590e-04\n",
      "Epoch 58/100\n",
      "12/12 [==============================] - 1s 58ms/step - loss: 0.0022 - val_loss: 2.4444e-04\n",
      "Epoch 59/100\n",
      "12/12 [==============================] - 1s 57ms/step - loss: 0.0023 - val_loss: 6.8515e-04\n",
      "Epoch 60/100\n",
      "12/12 [==============================] - 1s 58ms/step - loss: 0.0015 - val_loss: 2.7159e-04\n",
      "Epoch 61/100\n",
      "12/12 [==============================] - 1s 56ms/step - loss: 0.0022 - val_loss: 2.4791e-04\n",
      "Epoch 62/100\n",
      "12/12 [==============================] - 1s 58ms/step - loss: 0.0018 - val_loss: 2.5384e-04\n",
      "Epoch 63/100\n",
      "12/12 [==============================] - 1s 57ms/step - loss: 0.0014 - val_loss: 2.5367e-04\n",
      "Epoch 64/100\n",
      "12/12 [==============================] - 1s 56ms/step - loss: 0.0014 - val_loss: 2.5249e-04\n",
      "Epoch 65/100\n",
      "12/12 [==============================] - 1s 63ms/step - loss: 0.0013 - val_loss: 3.1615e-04\n",
      "Epoch 66/100\n",
      "12/12 [==============================] - 1s 57ms/step - loss: 0.0015 - val_loss: 2.4212e-04\n",
      "Epoch 67/100\n",
      "12/12 [==============================] - 1s 58ms/step - loss: 0.0013 - val_loss: 2.9507e-04\n",
      "Epoch 68/100\n",
      "12/12 [==============================] - 1s 61ms/step - loss: 0.0015 - val_loss: 2.3455e-04\n",
      "Epoch 69/100\n",
      "12/12 [==============================] - 1s 61ms/step - loss: 0.0011 - val_loss: 2.4612e-04\n",
      "Epoch 70/100\n",
      "12/12 [==============================] - 2s 178ms/step - loss: 7.8805e-04 - val_loss: 2.3723e-04\n",
      "Epoch 71/100\n",
      "12/12 [==============================] - 2s 141ms/step - loss: 0.0013 - val_loss: 2.5611e-04\n",
      "Epoch 72/100\n",
      "12/12 [==============================] - 2s 151ms/step - loss: 8.6831e-04 - val_loss: 2.4415e-04\n",
      "Epoch 73/100\n",
      "12/12 [==============================] - 2s 166ms/step - loss: 0.0013 - val_loss: 2.2637e-04\n",
      "Epoch 74/100\n",
      "12/12 [==============================] - 1s 120ms/step - loss: 0.0019 - val_loss: 2.4763e-04\n",
      "Epoch 75/100\n",
      "12/12 [==============================] - 2s 204ms/step - loss: 0.0039 - val_loss: 2.3093e-04\n",
      "Epoch 76/100\n",
      "12/12 [==============================] - 1s 82ms/step - loss: 0.0042 - val_loss: 3.3430e-04\n",
      "Epoch 77/100\n",
      "12/12 [==============================] - 2s 159ms/step - loss: 0.0022 - val_loss: 3.2359e-04\n",
      "Epoch 78/100\n",
      "12/12 [==============================] - 2s 161ms/step - loss: 0.0017 - val_loss: 2.2932e-04\n",
      "Epoch 79/100\n"
     ]
    },
    {
     "name": "stdout",
     "output_type": "stream",
     "text": [
      "12/12 [==============================] - 1s 70ms/step - loss: 0.0020 - val_loss: 2.2602e-04\n",
      "Epoch 80/100\n",
      "12/12 [==============================] - 1s 63ms/step - loss: 0.0015 - val_loss: 2.2056e-04\n",
      "Epoch 81/100\n",
      "12/12 [==============================] - 1s 64ms/step - loss: 0.0013 - val_loss: 2.2615e-04\n",
      "Epoch 82/100\n",
      "12/12 [==============================] - 2s 144ms/step - loss: 0.0019 - val_loss: 2.2761e-04\n",
      "Epoch 83/100\n",
      "12/12 [==============================] - 2s 182ms/step - loss: 0.0042 - val_loss: 2.8892e-04\n",
      "Epoch 84/100\n",
      "12/12 [==============================] - 1s 75ms/step - loss: 0.0045 - val_loss: 3.4814e-04\n",
      "Epoch 85/100\n",
      "12/12 [==============================] - 1s 71ms/step - loss: 0.0043 - val_loss: 2.5356e-04\n",
      "Epoch 86/100\n",
      "12/12 [==============================] - 1s 69ms/step - loss: 0.0037 - val_loss: 2.7211e-04\n",
      "Epoch 87/100\n",
      "12/12 [==============================] - 2s 135ms/step - loss: 0.0035 - val_loss: 2.8276e-04\n",
      "Epoch 88/100\n",
      "12/12 [==============================] - 2s 191ms/step - loss: 0.0032 - val_loss: 2.7007e-04\n",
      "Epoch 89/100\n",
      "12/12 [==============================] - 1s 63ms/step - loss: 0.0031 - val_loss: 4.2013e-04\n",
      "Epoch 90/100\n",
      "12/12 [==============================] - 1s 121ms/step - loss: 0.0027 - val_loss: 4.1096e-04\n",
      "Epoch 91/100\n",
      "12/12 [==============================] - 2s 191ms/step - loss: 0.0026 - val_loss: 4.7347e-04\n",
      "Epoch 92/100\n",
      "12/12 [==============================] - 1s 67ms/step - loss: 0.0023 - val_loss: 1.9084e-04\n",
      "Epoch 93/100\n",
      "12/12 [==============================] - 1s 62ms/step - loss: 0.0044 - val_loss: 5.7559e-04\n",
      "Epoch 94/100\n",
      "12/12 [==============================] - 1s 65ms/step - loss: 0.0028 - val_loss: 5.6771e-04\n",
      "Epoch 95/100\n",
      "12/12 [==============================] - 1s 112ms/step - loss: 0.0019 - val_loss: 2.1721e-04\n",
      "Epoch 96/100\n",
      "12/12 [==============================] - 3s 221ms/step - loss: 0.0017 - val_loss: 1.8721e-04\n",
      "Epoch 97/100\n",
      "12/12 [==============================] - 1s 76ms/step - loss: 0.0018 - val_loss: 2.7951e-04\n",
      "Epoch 98/100\n",
      "12/12 [==============================] - 1s 75ms/step - loss: 0.0019 - val_loss: 2.0551e-04\n",
      "Epoch 99/100\n",
      "12/12 [==============================] - 2s 179ms/step - loss: 0.0017 - val_loss: 3.3143e-04\n",
      "Epoch 100/100\n",
      "12/12 [==============================] - 2s 164ms/step - loss: 0.0013 - val_loss: 2.0071e-04\n"
     ]
    },
    {
     "data": {
      "text/plain": [
       "<keras.callbacks.History at 0x1f858784c40>"
      ]
     },
     "execution_count": 36,
     "metadata": {},
     "output_type": "execute_result"
    }
   ],
   "source": [
    "model.fit(X_train,y_train,validation_data=(x_test,y_test),epochs=100,batch_size=64,verbose=1)"
   ]
  },
  {
   "cell_type": "code",
   "execution_count": 37,
   "metadata": {},
   "outputs": [
    {
     "name": "stdout",
     "output_type": "stream",
     "text": [
      "23/23 [==============================] - 4s 24ms/step\n",
      "11/11 [==============================] - 0s 23ms/step\n"
     ]
    }
   ],
   "source": [
    "train_predict=model.predict(X_train)\n",
    "test_predict=model.predict(x_test)"
   ]
  },
  {
   "cell_type": "code",
   "execution_count": 38,
   "metadata": {},
   "outputs": [],
   "source": [
    "train_predict=scaler.inverse_transform(train_predict)\n",
    "test_predict=scaler.inverse_transform(test_predict)"
   ]
  },
  {
   "cell_type": "code",
   "execution_count": 39,
   "metadata": {},
   "outputs": [
    {
     "data": {
      "text/plain": [
       "233.88391891949448"
      ]
     },
     "execution_count": 39,
     "metadata": {},
     "output_type": "execute_result"
    }
   ],
   "source": [
    "import math\n",
    "from sklearn.metrics import mean_squared_error\n",
    "math.sqrt(mean_squared_error(y_train,train_predict))"
   ]
  },
  {
   "cell_type": "code",
   "execution_count": 40,
   "metadata": {},
   "outputs": [
    {
     "data": {
      "text/plain": [
       "153.65570460870495"
      ]
     },
     "execution_count": 40,
     "metadata": {},
     "output_type": "execute_result"
    }
   ],
   "source": [
    "math.sqrt(mean_squared_error(y_test,test_predict))"
   ]
  },
  {
   "cell_type": "code",
   "execution_count": 41,
   "metadata": {},
   "outputs": [
    {
     "data": {
      "image/png": "[encoded data removed]",
      "text/plain": [
       "<Figure size 432x288 with 1 Axes>"
      ]
     },
     "metadata": {
      "needs_background": "light"
     },
     "output_type": "display_data"
    }
   ],
   "source": [
    "### Plotting \n",
    "# shift train predictions for plotting\n",
    "look_back=100\n",
    "trainPredictPlot = np.empty_like(df1)\n",
    "trainPredictPlot[:, :] = np.nan\n",
    "trainPredictPlot[look_back:len(train_predict)+look_back, :] = train_predict\n",
    "# shift test predictions for plotting\n",
    "testPredictPlot = np.empty_like(df1)\n",
    "testPredictPlot[:, :] = np.nan\n",
    "testPredictPlot[len(train_predict)+(look_back*2)+1:len(df1)-1, :] = test_predict\n",
    "# plot baseline and predictions\n",
    "plt.plot(scaler.inverse_transform(df1))\n",
    "plt.plot(trainPredictPlot)\n",
    "plt.plot(testPredictPlot)\n",
    "plt.show()"
   ]
  },
  {
   "cell_type": "code",
   "execution_count": 42,
   "metadata": {},
   "outputs": [
    {
     "data": {
      "text/plain": [
       "441"
      ]
     },
     "execution_count": 42,
     "metadata": {},
     "output_type": "execute_result"
    }
   ],
   "source": [
    "len(test_data)"
   ]
  },
  {
   "cell_type": "code",
   "execution_count": null,
   "metadata": {},
   "outputs": [],
   "source": [
    "#predicting next 30 days data"
   ]
  },
  {
   "cell_type": "code",
   "execution_count": 43,
   "metadata": {},
   "outputs": [
    {
     "data": {
      "text/plain": [
       "(1, 100)"
      ]
     },
     "execution_count": 43,
     "metadata": {},
     "output_type": "execute_result"
    }
   ],
   "source": [
    "x_input=test_data[341:].reshape(1,-1) # for caluculating next day we need previous 100 days data \n",
    "x_input.shape"
   ]
  },
  {
   "cell_type": "code",
   "execution_count": 45,
   "metadata": {},
   "outputs": [],
   "source": [
    "temp_input=list(x_input)\n",
    "temp_input=temp_input[0].tolist()"
   ]
  },
  {
   "cell_type": "code",
   "execution_count": 46,
   "metadata": {},
   "outputs": [
    {
     "data": {
      "text/plain": [
       "[0.04889167188478394,\n",
       " 0.045535378835316165,\n",
       " 0.05705698184095176,\n",
       " 0.05838447088290544,\n",
       " 0.05983719474013771,\n",
       " 0.06675015654351907,\n",
       " 0.0665497808390732,\n",
       " 0.0699311208515967,\n",
       " 0.0728866624921728,\n",
       " 0.07105823418910456,\n",
       " 0.07120851596743893,\n",
       " 0.07772072636192856,\n",
       " 0.08583594239198494,\n",
       " 0.08939261114589853,\n",
       " 0.08771446462116467,\n",
       " 0.09297432686286783,\n",
       " 0.09790857858484658,\n",
       " 0.09056981840951783,\n",
       " 0.0938008766437069,\n",
       " 0.09665623043206006,\n",
       " 0.11015654351909826,\n",
       " 0.11937382592360674,\n",
       " 0.1124358171571696,\n",
       " 0.11974953036944269,\n",
       " 0.11291170945522849,\n",
       " 0.11028177833437691,\n",
       " 0.1106324358171571,\n",
       " 0.11774577332498432,\n",
       " 0.11611772072636184,\n",
       " 0.12145272385723233,\n",
       " 0.11739511584220413,\n",
       " 0.11448966812773947,\n",
       " 0.10429555416405756,\n",
       " 0.10537257357545393,\n",
       " 0.10659987476518468,\n",
       " 0.09986224170319347,\n",
       " 0.10289292423293667,\n",
       " 0.10161552911709448,\n",
       " 0.09635566687539132,\n",
       " 0.09785848465873509,\n",
       " 0.11068252974326859,\n",
       " 0.11769567939887288,\n",
       " 0.11211020663744514,\n",
       " 0.11529117094552283,\n",
       " 0.1095804633688165,\n",
       " 0.10434564809016905,\n",
       " 0.10927989981214775,\n",
       " 0.11458985597996241,\n",
       " 0.11559173450219157,\n",
       " 0.12275516593613017,\n",
       " 0.1206261740763932,\n",
       " 0.12663744520976827,\n",
       " 0.13134627426424544,\n",
       " 0.12771446462116465,\n",
       " 0.13046963055729488,\n",
       " 0.13377582968065116,\n",
       " 0.12884157795867246,\n",
       " 0.12726361928616153,\n",
       " 0.13507827175954912,\n",
       " 0.13906073888541015,\n",
       " 0.1454226675015654,\n",
       " 0.14860363180964303,\n",
       " 0.14725109580463364,\n",
       " 0.14256731371321218,\n",
       " 0.14482154038822787,\n",
       " 0.13823418910457103,\n",
       " 0.13515341264871633,\n",
       " 0.1334001252348152,\n",
       " 0.14707576706324355,\n",
       " 0.14619912335629304,\n",
       " 0.14624921728240442,\n",
       " 0.14935504070131495,\n",
       " 0.15226048841577955,\n",
       " 0.14980588603631806,\n",
       " 0.14572323105823415,\n",
       " 0.14649968691296178,\n",
       " 0.14259236067626796,\n",
       " 0.14256731371321218,\n",
       " 0.15421415153412643,\n",
       " 0.15739511584220411,\n",
       " 0.15716969317470253,\n",
       " 0.1545397620538509,\n",
       " 0.15180964308077638,\n",
       " 0.1476518472135253,\n",
       " 0.16713838447088286,\n",
       " 0.16696305572949277,\n",
       " 0.16262993112085156,\n",
       " 0.16710081402629928,\n",
       " 0.16758922980588598,\n",
       " 0.16463368816530988,\n",
       " 0.1633813400125234,\n",
       " 0.1633813400125234,\n",
       " 0.16493425172197868,\n",
       " 0.17084533500313087,\n",
       " 0.17112085159674384,\n",
       " 0.1687163431433938,\n",
       " 0.16210394489668123,\n",
       " 0.16280525986224165,\n",
       " 0.1656856606136506,\n",
       " 0.17179711959924854]"
      ]
     },
     "execution_count": 46,
     "metadata": {},
     "output_type": "execute_result"
    }
   ],
   "source": [
    "temp_input"
   ]
  },
  {
   "cell_type": "code",
   "execution_count": 47,
   "metadata": {
    "scrolled": false
   },
   "outputs": [
    {
     "name": "stdout",
     "output_type": "stream",
     "text": [
      "[0.16429389]\n",
      "101\n",
      "1 day input [0.04553538 0.05705698 0.05838447 0.05983719 0.06675016 0.06654978\n",
      " 0.06993112 0.07288666 0.07105823 0.07120852 0.07772073 0.08583594\n",
      " 0.08939261 0.08771446 0.09297433 0.09790858 0.09056982 0.09380088\n",
      " 0.09665623 0.11015654 0.11937383 0.11243582 0.11974953 0.11291171\n",
      " 0.11028178 0.11063244 0.11774577 0.11611772 0.12145272 0.11739512\n",
      " 0.11448967 0.10429555 0.10537257 0.10659987 0.09986224 0.10289292\n",
      " 0.10161553 0.09635567 0.09785848 0.11068253 0.11769568 0.11211021\n",
      " 0.11529117 0.10958046 0.10434565 0.1092799  0.11458986 0.11559173\n",
      " 0.12275517 0.12062617 0.12663745 0.13134627 0.12771446 0.13046963\n",
      " 0.13377583 0.12884158 0.12726362 0.13507827 0.13906074 0.14542267\n",
      " 0.14860363 0.1472511  0.14256731 0.14482154 0.13823419 0.13515341\n",
      " 0.13340013 0.14707577 0.14619912 0.14624922 0.14935504 0.15226049\n",
      " 0.14980589 0.14572323 0.14649969 0.14259236 0.14256731 0.15421415\n",
      " 0.15739512 0.15716969 0.15453976 0.15180964 0.14765185 0.16713838\n",
      " 0.16696306 0.16262993 0.16710081 0.16758923 0.16463369 0.16338134\n",
      " 0.16338134 0.16493425 0.17084534 0.17112085 0.16871634 0.16210394\n",
      " 0.16280526 0.16568566 0.17179712 0.16429389]\n",
      "1 day output [[0.16413294]]\n",
      "2 day input [0.05705698 0.05838447 0.05983719 0.06675016 0.06654978 0.06993112\n",
      " 0.07288666 0.07105823 0.07120852 0.07772073 0.08583594 0.08939261\n",
      " 0.08771446 0.09297433 0.09790858 0.09056982 0.09380088 0.09665623\n",
      " 0.11015654 0.11937383 0.11243582 0.11974953 0.11291171 0.11028178\n",
      " 0.11063244 0.11774577 0.11611772 0.12145272 0.11739512 0.11448967\n",
      " 0.10429555 0.10537257 0.10659987 0.09986224 0.10289292 0.10161553\n",
      " 0.09635567 0.09785848 0.11068253 0.11769568 0.11211021 0.11529117\n",
      " 0.10958046 0.10434565 0.1092799  0.11458986 0.11559173 0.12275517\n",
      " 0.12062617 0.12663745 0.13134627 0.12771446 0.13046963 0.13377583\n",
      " 0.12884158 0.12726362 0.13507827 0.13906074 0.14542267 0.14860363\n",
      " 0.1472511  0.14256731 0.14482154 0.13823419 0.13515341 0.13340013\n",
      " 0.14707577 0.14619912 0.14624922 0.14935504 0.15226049 0.14980589\n",
      " 0.14572323 0.14649969 0.14259236 0.14256731 0.15421415 0.15739512\n",
      " 0.15716969 0.15453976 0.15180964 0.14765185 0.16713838 0.16696306\n",
      " 0.16262993 0.16710081 0.16758923 0.16463369 0.16338134 0.16338134\n",
      " 0.16493425 0.17084534 0.17112085 0.16871634 0.16210394 0.16280526\n",
      " 0.16568566 0.17179712 0.16429389 0.16413294]\n",
      "2 day output [[0.16381016]]\n",
      "3 day input [0.05838447 0.05983719 0.06675016 0.06654978 0.06993112 0.07288666\n",
      " 0.07105823 0.07120852 0.07772073 0.08583594 0.08939261 0.08771446\n",
      " 0.09297433 0.09790858 0.09056982 0.09380088 0.09665623 0.11015654\n",
      " 0.11937383 0.11243582 0.11974953 0.11291171 0.11028178 0.11063244\n",
      " 0.11774577 0.11611772 0.12145272 0.11739512 0.11448967 0.10429555\n",
      " 0.10537257 0.10659987 0.09986224 0.10289292 0.10161553 0.09635567\n",
      " 0.09785848 0.11068253 0.11769568 0.11211021 0.11529117 0.10958046\n",
      " 0.10434565 0.1092799  0.11458986 0.11559173 0.12275517 0.12062617\n",
      " 0.12663745 0.13134627 0.12771446 0.13046963 0.13377583 0.12884158\n",
      " 0.12726362 0.13507827 0.13906074 0.14542267 0.14860363 0.1472511\n",
      " 0.14256731 0.14482154 0.13823419 0.13515341 0.13340013 0.14707577\n",
      " 0.14619912 0.14624922 0.14935504 0.15226049 0.14980589 0.14572323\n",
      " 0.14649969 0.14259236 0.14256731 0.15421415 0.15739512 0.15716969\n",
      " 0.15453976 0.15180964 0.14765185 0.16713838 0.16696306 0.16262993\n",
      " 0.16710081 0.16758923 0.16463369 0.16338134 0.16338134 0.16493425\n",
      " 0.17084534 0.17112085 0.16871634 0.16210394 0.16280526 0.16568566\n",
      " 0.17179712 0.16429389 0.16413294 0.16381016]\n",
      "3 day output [[0.16333646]]\n",
      "4 day input [0.05983719 0.06675016 0.06654978 0.06993112 0.07288666 0.07105823\n",
      " 0.07120852 0.07772073 0.08583594 0.08939261 0.08771446 0.09297433\n",
      " 0.09790858 0.09056982 0.09380088 0.09665623 0.11015654 0.11937383\n",
      " 0.11243582 0.11974953 0.11291171 0.11028178 0.11063244 0.11774577\n",
      " 0.11611772 0.12145272 0.11739512 0.11448967 0.10429555 0.10537257\n",
      " 0.10659987 0.09986224 0.10289292 0.10161553 0.09635567 0.09785848\n",
      " 0.11068253 0.11769568 0.11211021 0.11529117 0.10958046 0.10434565\n",
      " 0.1092799  0.11458986 0.11559173 0.12275517 0.12062617 0.12663745\n",
      " 0.13134627 0.12771446 0.13046963 0.13377583 0.12884158 0.12726362\n",
      " 0.13507827 0.13906074 0.14542267 0.14860363 0.1472511  0.14256731\n",
      " 0.14482154 0.13823419 0.13515341 0.13340013 0.14707577 0.14619912\n",
      " 0.14624922 0.14935504 0.15226049 0.14980589 0.14572323 0.14649969\n",
      " 0.14259236 0.14256731 0.15421415 0.15739512 0.15716969 0.15453976\n",
      " 0.15180964 0.14765185 0.16713838 0.16696306 0.16262993 0.16710081\n",
      " 0.16758923 0.16463369 0.16338134 0.16338134 0.16493425 0.17084534\n",
      " 0.17112085 0.16871634 0.16210394 0.16280526 0.16568566 0.17179712\n",
      " 0.16429389 0.16413294 0.16381016 0.16333646]\n",
      "4 day output [[0.16275075]]\n",
      "5 day input [0.06675016 0.06654978 0.06993112 0.07288666 0.07105823 0.07120852\n",
      " 0.07772073 0.08583594 0.08939261 0.08771446 0.09297433 0.09790858\n",
      " 0.09056982 0.09380088 0.09665623 0.11015654 0.11937383 0.11243582\n",
      " 0.11974953 0.11291171 0.11028178 0.11063244 0.11774577 0.11611772\n",
      " 0.12145272 0.11739512 0.11448967 0.10429555 0.10537257 0.10659987\n",
      " 0.09986224 0.10289292 0.10161553 0.09635567 0.09785848 0.11068253\n",
      " 0.11769568 0.11211021 0.11529117 0.10958046 0.10434565 0.1092799\n",
      " 0.11458986 0.11559173 0.12275517 0.12062617 0.12663745 0.13134627\n",
      " 0.12771446 0.13046963 0.13377583 0.12884158 0.12726362 0.13507827\n",
      " 0.13906074 0.14542267 0.14860363 0.1472511  0.14256731 0.14482154\n",
      " 0.13823419 0.13515341 0.13340013 0.14707577 0.14619912 0.14624922\n",
      " 0.14935504 0.15226049 0.14980589 0.14572323 0.14649969 0.14259236\n",
      " 0.14256731 0.15421415 0.15739512 0.15716969 0.15453976 0.15180964\n",
      " 0.14765185 0.16713838 0.16696306 0.16262993 0.16710081 0.16758923\n",
      " 0.16463369 0.16338134 0.16338134 0.16493425 0.17084534 0.17112085\n",
      " 0.16871634 0.16210394 0.16280526 0.16568566 0.17179712 0.16429389\n",
      " 0.16413294 0.16381016 0.16333646 0.16275075]\n",
      "5 day output [[0.16208999]]\n",
      "6 day input [0.06654978 0.06993112 0.07288666 0.07105823 0.07120852 0.07772073\n",
      " 0.08583594 0.08939261 0.08771446 0.09297433 0.09790858 0.09056982\n",
      " 0.09380088 0.09665623 0.11015654 0.11937383 0.11243582 0.11974953\n",
      " 0.11291171 0.11028178 0.11063244 0.11774577 0.11611772 0.12145272\n",
      " 0.11739512 0.11448967 0.10429555 0.10537257 0.10659987 0.09986224\n",
      " 0.10289292 0.10161553 0.09635567 0.09785848 0.11068253 0.11769568\n",
      " 0.11211021 0.11529117 0.10958046 0.10434565 0.1092799  0.11458986\n",
      " 0.11559173 0.12275517 0.12062617 0.12663745 0.13134627 0.12771446\n",
      " 0.13046963 0.13377583 0.12884158 0.12726362 0.13507827 0.13906074\n",
      " 0.14542267 0.14860363 0.1472511  0.14256731 0.14482154 0.13823419\n",
      " 0.13515341 0.13340013 0.14707577 0.14619912 0.14624922 0.14935504\n",
      " 0.15226049 0.14980589 0.14572323 0.14649969 0.14259236 0.14256731\n",
      " 0.15421415 0.15739512 0.15716969 0.15453976 0.15180964 0.14765185\n",
      " 0.16713838 0.16696306 0.16262993 0.16710081 0.16758923 0.16463369\n",
      " 0.16338134 0.16338134 0.16493425 0.17084534 0.17112085 0.16871634\n",
      " 0.16210394 0.16280526 0.16568566 0.17179712 0.16429389 0.16413294\n",
      " 0.16381016 0.16333646 0.16275075 0.16208999]\n",
      "6 day output [[0.16138086]]\n",
      "7 day input [0.06993112 0.07288666 0.07105823 0.07120852 0.07772073 0.08583594\n",
      " 0.08939261 0.08771446 0.09297433 0.09790858 0.09056982 0.09380088\n",
      " 0.09665623 0.11015654 0.11937383 0.11243582 0.11974953 0.11291171\n",
      " 0.11028178 0.11063244 0.11774577 0.11611772 0.12145272 0.11739512\n",
      " 0.11448967 0.10429555 0.10537257 0.10659987 0.09986224 0.10289292\n",
      " 0.10161553 0.09635567 0.09785848 0.11068253 0.11769568 0.11211021\n",
      " 0.11529117 0.10958046 0.10434565 0.1092799  0.11458986 0.11559173\n",
      " 0.12275517 0.12062617 0.12663745 0.13134627 0.12771446 0.13046963\n",
      " 0.13377583 0.12884158 0.12726362 0.13507827 0.13906074 0.14542267\n",
      " 0.14860363 0.1472511  0.14256731 0.14482154 0.13823419 0.13515341\n",
      " 0.13340013 0.14707577 0.14619912 0.14624922 0.14935504 0.15226049\n",
      " 0.14980589 0.14572323 0.14649969 0.14259236 0.14256731 0.15421415\n",
      " 0.15739512 0.15716969 0.15453976 0.15180964 0.14765185 0.16713838\n",
      " 0.16696306 0.16262993 0.16710081 0.16758923 0.16463369 0.16338134\n",
      " 0.16338134 0.16493425 0.17084534 0.17112085 0.16871634 0.16210394\n",
      " 0.16280526 0.16568566 0.17179712 0.16429389 0.16413294 0.16381016\n",
      " 0.16333646 0.16275075 0.16208999 0.16138086]\n",
      "7 day output [[0.16064079]]\n",
      "8 day input [0.07288666 0.07105823 0.07120852 0.07772073 0.08583594 0.08939261\n",
      " 0.08771446 0.09297433 0.09790858 0.09056982 0.09380088 0.09665623\n",
      " 0.11015654 0.11937383 0.11243582 0.11974953 0.11291171 0.11028178\n",
      " 0.11063244 0.11774577 0.11611772 0.12145272 0.11739512 0.11448967\n",
      " 0.10429555 0.10537257 0.10659987 0.09986224 0.10289292 0.10161553\n",
      " 0.09635567 0.09785848 0.11068253 0.11769568 0.11211021 0.11529117\n",
      " 0.10958046 0.10434565 0.1092799  0.11458986 0.11559173 0.12275517\n",
      " 0.12062617 0.12663745 0.13134627 0.12771446 0.13046963 0.13377583\n",
      " 0.12884158 0.12726362 0.13507827 0.13906074 0.14542267 0.14860363\n",
      " 0.1472511  0.14256731 0.14482154 0.13823419 0.13515341 0.13340013\n",
      " 0.14707577 0.14619912 0.14624922 0.14935504 0.15226049 0.14980589\n",
      " 0.14572323 0.14649969 0.14259236 0.14256731 0.15421415 0.15739512\n",
      " 0.15716969 0.15453976 0.15180964 0.14765185 0.16713838 0.16696306\n",
      " 0.16262993 0.16710081 0.16758923 0.16463369 0.16338134 0.16338134\n",
      " 0.16493425 0.17084534 0.17112085 0.16871634 0.16210394 0.16280526\n",
      " 0.16568566 0.17179712 0.16429389 0.16413294 0.16381016 0.16333646\n",
      " 0.16275075 0.16208999 0.16138086 0.16064079]\n"
     ]
    },
    {
     "name": "stdout",
     "output_type": "stream",
     "text": [
      "8 day output [[0.1598804]]\n",
      "9 day input [0.07105823 0.07120852 0.07772073 0.08583594 0.08939261 0.08771446\n",
      " 0.09297433 0.09790858 0.09056982 0.09380088 0.09665623 0.11015654\n",
      " 0.11937383 0.11243582 0.11974953 0.11291171 0.11028178 0.11063244\n",
      " 0.11774577 0.11611772 0.12145272 0.11739512 0.11448967 0.10429555\n",
      " 0.10537257 0.10659987 0.09986224 0.10289292 0.10161553 0.09635567\n",
      " 0.09785848 0.11068253 0.11769568 0.11211021 0.11529117 0.10958046\n",
      " 0.10434565 0.1092799  0.11458986 0.11559173 0.12275517 0.12062617\n",
      " 0.12663745 0.13134627 0.12771446 0.13046963 0.13377583 0.12884158\n",
      " 0.12726362 0.13507827 0.13906074 0.14542267 0.14860363 0.1472511\n",
      " 0.14256731 0.14482154 0.13823419 0.13515341 0.13340013 0.14707577\n",
      " 0.14619912 0.14624922 0.14935504 0.15226049 0.14980589 0.14572323\n",
      " 0.14649969 0.14259236 0.14256731 0.15421415 0.15739512 0.15716969\n",
      " 0.15453976 0.15180964 0.14765185 0.16713838 0.16696306 0.16262993\n",
      " 0.16710081 0.16758923 0.16463369 0.16338134 0.16338134 0.16493425\n",
      " 0.17084534 0.17112085 0.16871634 0.16210394 0.16280526 0.16568566\n",
      " 0.17179712 0.16429389 0.16413294 0.16381016 0.16333646 0.16275075\n",
      " 0.16208999 0.16138086 0.16064079 0.1598804 ]\n",
      "9 day output [[0.15910634]]\n",
      "10 day input [0.07120852 0.07772073 0.08583594 0.08939261 0.08771446 0.09297433\n",
      " 0.09790858 0.09056982 0.09380088 0.09665623 0.11015654 0.11937383\n",
      " 0.11243582 0.11974953 0.11291171 0.11028178 0.11063244 0.11774577\n",
      " 0.11611772 0.12145272 0.11739512 0.11448967 0.10429555 0.10537257\n",
      " 0.10659987 0.09986224 0.10289292 0.10161553 0.09635567 0.09785848\n",
      " 0.11068253 0.11769568 0.11211021 0.11529117 0.10958046 0.10434565\n",
      " 0.1092799  0.11458986 0.11559173 0.12275517 0.12062617 0.12663745\n",
      " 0.13134627 0.12771446 0.13046963 0.13377583 0.12884158 0.12726362\n",
      " 0.13507827 0.13906074 0.14542267 0.14860363 0.1472511  0.14256731\n",
      " 0.14482154 0.13823419 0.13515341 0.13340013 0.14707577 0.14619912\n",
      " 0.14624922 0.14935504 0.15226049 0.14980589 0.14572323 0.14649969\n",
      " 0.14259236 0.14256731 0.15421415 0.15739512 0.15716969 0.15453976\n",
      " 0.15180964 0.14765185 0.16713838 0.16696306 0.16262993 0.16710081\n",
      " 0.16758923 0.16463369 0.16338134 0.16338134 0.16493425 0.17084534\n",
      " 0.17112085 0.16871634 0.16210394 0.16280526 0.16568566 0.17179712\n",
      " 0.16429389 0.16413294 0.16381016 0.16333646 0.16275075 0.16208999\n",
      " 0.16138086 0.16064079 0.1598804  0.15910634]\n",
      "10 day output [[0.15832306]]\n",
      "11 day input [0.07772073 0.08583594 0.08939261 0.08771446 0.09297433 0.09790858\n",
      " 0.09056982 0.09380088 0.09665623 0.11015654 0.11937383 0.11243582\n",
      " 0.11974953 0.11291171 0.11028178 0.11063244 0.11774577 0.11611772\n",
      " 0.12145272 0.11739512 0.11448967 0.10429555 0.10537257 0.10659987\n",
      " 0.09986224 0.10289292 0.10161553 0.09635567 0.09785848 0.11068253\n",
      " 0.11769568 0.11211021 0.11529117 0.10958046 0.10434565 0.1092799\n",
      " 0.11458986 0.11559173 0.12275517 0.12062617 0.12663745 0.13134627\n",
      " 0.12771446 0.13046963 0.13377583 0.12884158 0.12726362 0.13507827\n",
      " 0.13906074 0.14542267 0.14860363 0.1472511  0.14256731 0.14482154\n",
      " 0.13823419 0.13515341 0.13340013 0.14707577 0.14619912 0.14624922\n",
      " 0.14935504 0.15226049 0.14980589 0.14572323 0.14649969 0.14259236\n",
      " 0.14256731 0.15421415 0.15739512 0.15716969 0.15453976 0.15180964\n",
      " 0.14765185 0.16713838 0.16696306 0.16262993 0.16710081 0.16758923\n",
      " 0.16463369 0.16338134 0.16338134 0.16493425 0.17084534 0.17112085\n",
      " 0.16871634 0.16210394 0.16280526 0.16568566 0.17179712 0.16429389\n",
      " 0.16413294 0.16381016 0.16333646 0.16275075 0.16208999 0.16138086\n",
      " 0.16064079 0.1598804  0.15910634 0.15832306]\n",
      "11 day output [[0.15753374]]\n",
      "12 day input [0.08583594 0.08939261 0.08771446 0.09297433 0.09790858 0.09056982\n",
      " 0.09380088 0.09665623 0.11015654 0.11937383 0.11243582 0.11974953\n",
      " 0.11291171 0.11028178 0.11063244 0.11774577 0.11611772 0.12145272\n",
      " 0.11739512 0.11448967 0.10429555 0.10537257 0.10659987 0.09986224\n",
      " 0.10289292 0.10161553 0.09635567 0.09785848 0.11068253 0.11769568\n",
      " 0.11211021 0.11529117 0.10958046 0.10434565 0.1092799  0.11458986\n",
      " 0.11559173 0.12275517 0.12062617 0.12663745 0.13134627 0.12771446\n",
      " 0.13046963 0.13377583 0.12884158 0.12726362 0.13507827 0.13906074\n",
      " 0.14542267 0.14860363 0.1472511  0.14256731 0.14482154 0.13823419\n",
      " 0.13515341 0.13340013 0.14707577 0.14619912 0.14624922 0.14935504\n",
      " 0.15226049 0.14980589 0.14572323 0.14649969 0.14259236 0.14256731\n",
      " 0.15421415 0.15739512 0.15716969 0.15453976 0.15180964 0.14765185\n",
      " 0.16713838 0.16696306 0.16262993 0.16710081 0.16758923 0.16463369\n",
      " 0.16338134 0.16338134 0.16493425 0.17084534 0.17112085 0.16871634\n",
      " 0.16210394 0.16280526 0.16568566 0.17179712 0.16429389 0.16413294\n",
      " 0.16381016 0.16333646 0.16275075 0.16208999 0.16138086 0.16064079\n",
      " 0.1598804  0.15910634 0.15832306 0.15753374]\n",
      "12 day output [[0.15674084]]\n",
      "13 day input [0.08939261 0.08771446 0.09297433 0.09790858 0.09056982 0.09380088\n",
      " 0.09665623 0.11015654 0.11937383 0.11243582 0.11974953 0.11291171\n",
      " 0.11028178 0.11063244 0.11774577 0.11611772 0.12145272 0.11739512\n",
      " 0.11448967 0.10429555 0.10537257 0.10659987 0.09986224 0.10289292\n",
      " 0.10161553 0.09635567 0.09785848 0.11068253 0.11769568 0.11211021\n",
      " 0.11529117 0.10958046 0.10434565 0.1092799  0.11458986 0.11559173\n",
      " 0.12275517 0.12062617 0.12663745 0.13134627 0.12771446 0.13046963\n",
      " 0.13377583 0.12884158 0.12726362 0.13507827 0.13906074 0.14542267\n",
      " 0.14860363 0.1472511  0.14256731 0.14482154 0.13823419 0.13515341\n",
      " 0.13340013 0.14707577 0.14619912 0.14624922 0.14935504 0.15226049\n",
      " 0.14980589 0.14572323 0.14649969 0.14259236 0.14256731 0.15421415\n",
      " 0.15739512 0.15716969 0.15453976 0.15180964 0.14765185 0.16713838\n",
      " 0.16696306 0.16262993 0.16710081 0.16758923 0.16463369 0.16338134\n",
      " 0.16338134 0.16493425 0.17084534 0.17112085 0.16871634 0.16210394\n",
      " 0.16280526 0.16568566 0.17179712 0.16429389 0.16413294 0.16381016\n",
      " 0.16333646 0.16275075 0.16208999 0.16138086 0.16064079 0.1598804\n",
      " 0.15910634 0.15832306 0.15753374 0.15674084]\n",
      "13 day output [[0.15594643]]\n",
      "14 day input [0.08771446 0.09297433 0.09790858 0.09056982 0.09380088 0.09665623\n",
      " 0.11015654 0.11937383 0.11243582 0.11974953 0.11291171 0.11028178\n",
      " 0.11063244 0.11774577 0.11611772 0.12145272 0.11739512 0.11448967\n",
      " 0.10429555 0.10537257 0.10659987 0.09986224 0.10289292 0.10161553\n",
      " 0.09635567 0.09785848 0.11068253 0.11769568 0.11211021 0.11529117\n",
      " 0.10958046 0.10434565 0.1092799  0.11458986 0.11559173 0.12275517\n",
      " 0.12062617 0.12663745 0.13134627 0.12771446 0.13046963 0.13377583\n",
      " 0.12884158 0.12726362 0.13507827 0.13906074 0.14542267 0.14860363\n",
      " 0.1472511  0.14256731 0.14482154 0.13823419 0.13515341 0.13340013\n",
      " 0.14707577 0.14619912 0.14624922 0.14935504 0.15226049 0.14980589\n",
      " 0.14572323 0.14649969 0.14259236 0.14256731 0.15421415 0.15739512\n",
      " 0.15716969 0.15453976 0.15180964 0.14765185 0.16713838 0.16696306\n",
      " 0.16262993 0.16710081 0.16758923 0.16463369 0.16338134 0.16338134\n",
      " 0.16493425 0.17084534 0.17112085 0.16871634 0.16210394 0.16280526\n",
      " 0.16568566 0.17179712 0.16429389 0.16413294 0.16381016 0.16333646\n",
      " 0.16275075 0.16208999 0.16138086 0.16064079 0.1598804  0.15910634\n",
      " 0.15832306 0.15753374 0.15674084 0.15594643]\n",
      "14 day output [[0.15515213]]\n",
      "15 day input [0.09297433 0.09790858 0.09056982 0.09380088 0.09665623 0.11015654\n",
      " 0.11937383 0.11243582 0.11974953 0.11291171 0.11028178 0.11063244\n",
      " 0.11774577 0.11611772 0.12145272 0.11739512 0.11448967 0.10429555\n",
      " 0.10537257 0.10659987 0.09986224 0.10289292 0.10161553 0.09635567\n",
      " 0.09785848 0.11068253 0.11769568 0.11211021 0.11529117 0.10958046\n",
      " 0.10434565 0.1092799  0.11458986 0.11559173 0.12275517 0.12062617\n",
      " 0.12663745 0.13134627 0.12771446 0.13046963 0.13377583 0.12884158\n",
      " 0.12726362 0.13507827 0.13906074 0.14542267 0.14860363 0.1472511\n",
      " 0.14256731 0.14482154 0.13823419 0.13515341 0.13340013 0.14707577\n",
      " 0.14619912 0.14624922 0.14935504 0.15226049 0.14980589 0.14572323\n",
      " 0.14649969 0.14259236 0.14256731 0.15421415 0.15739512 0.15716969\n",
      " 0.15453976 0.15180964 0.14765185 0.16713838 0.16696306 0.16262993\n",
      " 0.16710081 0.16758923 0.16463369 0.16338134 0.16338134 0.16493425\n",
      " 0.17084534 0.17112085 0.16871634 0.16210394 0.16280526 0.16568566\n",
      " 0.17179712 0.16429389 0.16413294 0.16381016 0.16333646 0.16275075\n",
      " 0.16208999 0.16138086 0.16064079 0.1598804  0.15910634 0.15832306\n",
      " 0.15753374 0.15674084 0.15594643 0.15515213]\n",
      "15 day output [[0.1543593]]\n",
      "16 day input [0.09790858 0.09056982 0.09380088 0.09665623 0.11015654 0.11937383\n",
      " 0.11243582 0.11974953 0.11291171 0.11028178 0.11063244 0.11774577\n",
      " 0.11611772 0.12145272 0.11739512 0.11448967 0.10429555 0.10537257\n",
      " 0.10659987 0.09986224 0.10289292 0.10161553 0.09635567 0.09785848\n",
      " 0.11068253 0.11769568 0.11211021 0.11529117 0.10958046 0.10434565\n",
      " 0.1092799  0.11458986 0.11559173 0.12275517 0.12062617 0.12663745\n",
      " 0.13134627 0.12771446 0.13046963 0.13377583 0.12884158 0.12726362\n",
      " 0.13507827 0.13906074 0.14542267 0.14860363 0.1472511  0.14256731\n",
      " 0.14482154 0.13823419 0.13515341 0.13340013 0.14707577 0.14619912\n",
      " 0.14624922 0.14935504 0.15226049 0.14980589 0.14572323 0.14649969\n",
      " 0.14259236 0.14256731 0.15421415 0.15739512 0.15716969 0.15453976\n",
      " 0.15180964 0.14765185 0.16713838 0.16696306 0.16262993 0.16710081\n",
      " 0.16758923 0.16463369 0.16338134 0.16338134 0.16493425 0.17084534\n",
      " 0.17112085 0.16871634 0.16210394 0.16280526 0.16568566 0.17179712\n",
      " 0.16429389 0.16413294 0.16381016 0.16333646 0.16275075 0.16208999\n",
      " 0.16138086 0.16064079 0.1598804  0.15910634 0.15832306 0.15753374\n",
      " 0.15674084 0.15594643 0.15515213 0.1543593 ]\n",
      "16 day output [[0.1535688]]\n",
      "17 day input [0.09056982 0.09380088 0.09665623 0.11015654 0.11937383 0.11243582\n",
      " 0.11974953 0.11291171 0.11028178 0.11063244 0.11774577 0.11611772\n",
      " 0.12145272 0.11739512 0.11448967 0.10429555 0.10537257 0.10659987\n",
      " 0.09986224 0.10289292 0.10161553 0.09635567 0.09785848 0.11068253\n",
      " 0.11769568 0.11211021 0.11529117 0.10958046 0.10434565 0.1092799\n",
      " 0.11458986 0.11559173 0.12275517 0.12062617 0.12663745 0.13134627\n",
      " 0.12771446 0.13046963 0.13377583 0.12884158 0.12726362 0.13507827\n",
      " 0.13906074 0.14542267 0.14860363 0.1472511  0.14256731 0.14482154\n",
      " 0.13823419 0.13515341 0.13340013 0.14707577 0.14619912 0.14624922\n",
      " 0.14935504 0.15226049 0.14980589 0.14572323 0.14649969 0.14259236\n",
      " 0.14256731 0.15421415 0.15739512 0.15716969 0.15453976 0.15180964\n",
      " 0.14765185 0.16713838 0.16696306 0.16262993 0.16710081 0.16758923\n",
      " 0.16463369 0.16338134 0.16338134 0.16493425 0.17084534 0.17112085\n",
      " 0.16871634 0.16210394 0.16280526 0.16568566 0.17179712 0.16429389\n",
      " 0.16413294 0.16381016 0.16333646 0.16275075 0.16208999 0.16138086\n",
      " 0.16064079 0.1598804  0.15910634 0.15832306 0.15753374 0.15674084\n",
      " 0.15594643 0.15515213 0.1543593  0.1535688 ]\n"
     ]
    },
    {
     "name": "stdout",
     "output_type": "stream",
     "text": [
      "17 day output [[0.1527813]]\n",
      "18 day input [0.09380088 0.09665623 0.11015654 0.11937383 0.11243582 0.11974953\n",
      " 0.11291171 0.11028178 0.11063244 0.11774577 0.11611772 0.12145272\n",
      " 0.11739512 0.11448967 0.10429555 0.10537257 0.10659987 0.09986224\n",
      " 0.10289292 0.10161553 0.09635567 0.09785848 0.11068253 0.11769568\n",
      " 0.11211021 0.11529117 0.10958046 0.10434565 0.1092799  0.11458986\n",
      " 0.11559173 0.12275517 0.12062617 0.12663745 0.13134627 0.12771446\n",
      " 0.13046963 0.13377583 0.12884158 0.12726362 0.13507827 0.13906074\n",
      " 0.14542267 0.14860363 0.1472511  0.14256731 0.14482154 0.13823419\n",
      " 0.13515341 0.13340013 0.14707577 0.14619912 0.14624922 0.14935504\n",
      " 0.15226049 0.14980589 0.14572323 0.14649969 0.14259236 0.14256731\n",
      " 0.15421415 0.15739512 0.15716969 0.15453976 0.15180964 0.14765185\n",
      " 0.16713838 0.16696306 0.16262993 0.16710081 0.16758923 0.16463369\n",
      " 0.16338134 0.16338134 0.16493425 0.17084534 0.17112085 0.16871634\n",
      " 0.16210394 0.16280526 0.16568566 0.17179712 0.16429389 0.16413294\n",
      " 0.16381016 0.16333646 0.16275075 0.16208999 0.16138086 0.16064079\n",
      " 0.1598804  0.15910634 0.15832306 0.15753374 0.15674084 0.15594643\n",
      " 0.15515213 0.1543593  0.1535688  0.15278129]\n",
      "18 day output [[0.15199712]]\n",
      "19 day input [0.09665623 0.11015654 0.11937383 0.11243582 0.11974953 0.11291171\n",
      " 0.11028178 0.11063244 0.11774577 0.11611772 0.12145272 0.11739512\n",
      " 0.11448967 0.10429555 0.10537257 0.10659987 0.09986224 0.10289292\n",
      " 0.10161553 0.09635567 0.09785848 0.11068253 0.11769568 0.11211021\n",
      " 0.11529117 0.10958046 0.10434565 0.1092799  0.11458986 0.11559173\n",
      " 0.12275517 0.12062617 0.12663745 0.13134627 0.12771446 0.13046963\n",
      " 0.13377583 0.12884158 0.12726362 0.13507827 0.13906074 0.14542267\n",
      " 0.14860363 0.1472511  0.14256731 0.14482154 0.13823419 0.13515341\n",
      " 0.13340013 0.14707577 0.14619912 0.14624922 0.14935504 0.15226049\n",
      " 0.14980589 0.14572323 0.14649969 0.14259236 0.14256731 0.15421415\n",
      " 0.15739512 0.15716969 0.15453976 0.15180964 0.14765185 0.16713838\n",
      " 0.16696306 0.16262993 0.16710081 0.16758923 0.16463369 0.16338134\n",
      " 0.16338134 0.16493425 0.17084534 0.17112085 0.16871634 0.16210394\n",
      " 0.16280526 0.16568566 0.17179712 0.16429389 0.16413294 0.16381016\n",
      " 0.16333646 0.16275075 0.16208999 0.16138086 0.16064079 0.1598804\n",
      " 0.15910634 0.15832306 0.15753374 0.15674084 0.15594643 0.15515213\n",
      " 0.1543593  0.1535688  0.15278129 0.15199712]\n",
      "19 day output [[0.15121631]]\n",
      "20 day input [0.11015654 0.11937383 0.11243582 0.11974953 0.11291171 0.11028178\n",
      " 0.11063244 0.11774577 0.11611772 0.12145272 0.11739512 0.11448967\n",
      " 0.10429555 0.10537257 0.10659987 0.09986224 0.10289292 0.10161553\n",
      " 0.09635567 0.09785848 0.11068253 0.11769568 0.11211021 0.11529117\n",
      " 0.10958046 0.10434565 0.1092799  0.11458986 0.11559173 0.12275517\n",
      " 0.12062617 0.12663745 0.13134627 0.12771446 0.13046963 0.13377583\n",
      " 0.12884158 0.12726362 0.13507827 0.13906074 0.14542267 0.14860363\n",
      " 0.1472511  0.14256731 0.14482154 0.13823419 0.13515341 0.13340013\n",
      " 0.14707577 0.14619912 0.14624922 0.14935504 0.15226049 0.14980589\n",
      " 0.14572323 0.14649969 0.14259236 0.14256731 0.15421415 0.15739512\n",
      " 0.15716969 0.15453976 0.15180964 0.14765185 0.16713838 0.16696306\n",
      " 0.16262993 0.16710081 0.16758923 0.16463369 0.16338134 0.16338134\n",
      " 0.16493425 0.17084534 0.17112085 0.16871634 0.16210394 0.16280526\n",
      " 0.16568566 0.17179712 0.16429389 0.16413294 0.16381016 0.16333646\n",
      " 0.16275075 0.16208999 0.16138086 0.16064079 0.1598804  0.15910634\n",
      " 0.15832306 0.15753374 0.15674084 0.15594643 0.15515213 0.1543593\n",
      " 0.1535688  0.15278129 0.15199712 0.15121631]\n",
      "20 day output [[0.15043874]]\n",
      "21 day input [0.11937383 0.11243582 0.11974953 0.11291171 0.11028178 0.11063244\n",
      " 0.11774577 0.11611772 0.12145272 0.11739512 0.11448967 0.10429555\n",
      " 0.10537257 0.10659987 0.09986224 0.10289292 0.10161553 0.09635567\n",
      " 0.09785848 0.11068253 0.11769568 0.11211021 0.11529117 0.10958046\n",
      " 0.10434565 0.1092799  0.11458986 0.11559173 0.12275517 0.12062617\n",
      " 0.12663745 0.13134627 0.12771446 0.13046963 0.13377583 0.12884158\n",
      " 0.12726362 0.13507827 0.13906074 0.14542267 0.14860363 0.1472511\n",
      " 0.14256731 0.14482154 0.13823419 0.13515341 0.13340013 0.14707577\n",
      " 0.14619912 0.14624922 0.14935504 0.15226049 0.14980589 0.14572323\n",
      " 0.14649969 0.14259236 0.14256731 0.15421415 0.15739512 0.15716969\n",
      " 0.15453976 0.15180964 0.14765185 0.16713838 0.16696306 0.16262993\n",
      " 0.16710081 0.16758923 0.16463369 0.16338134 0.16338134 0.16493425\n",
      " 0.17084534 0.17112085 0.16871634 0.16210394 0.16280526 0.16568566\n",
      " 0.17179712 0.16429389 0.16413294 0.16381016 0.16333646 0.16275075\n",
      " 0.16208999 0.16138086 0.16064079 0.1598804  0.15910634 0.15832306\n",
      " 0.15753374 0.15674084 0.15594643 0.15515213 0.1543593  0.1535688\n",
      " 0.15278129 0.15199712 0.15121631 0.15043874]\n",
      "21 day output [[0.14966404]]\n",
      "22 day input [0.11243582 0.11974953 0.11291171 0.11028178 0.11063244 0.11774577\n",
      " 0.11611772 0.12145272 0.11739512 0.11448967 0.10429555 0.10537257\n",
      " 0.10659987 0.09986224 0.10289292 0.10161553 0.09635567 0.09785848\n",
      " 0.11068253 0.11769568 0.11211021 0.11529117 0.10958046 0.10434565\n",
      " 0.1092799  0.11458986 0.11559173 0.12275517 0.12062617 0.12663745\n",
      " 0.13134627 0.12771446 0.13046963 0.13377583 0.12884158 0.12726362\n",
      " 0.13507827 0.13906074 0.14542267 0.14860363 0.1472511  0.14256731\n",
      " 0.14482154 0.13823419 0.13515341 0.13340013 0.14707577 0.14619912\n",
      " 0.14624922 0.14935504 0.15226049 0.14980589 0.14572323 0.14649969\n",
      " 0.14259236 0.14256731 0.15421415 0.15739512 0.15716969 0.15453976\n",
      " 0.15180964 0.14765185 0.16713838 0.16696306 0.16262993 0.16710081\n",
      " 0.16758923 0.16463369 0.16338134 0.16338134 0.16493425 0.17084534\n",
      " 0.17112085 0.16871634 0.16210394 0.16280526 0.16568566 0.17179712\n",
      " 0.16429389 0.16413294 0.16381016 0.16333646 0.16275075 0.16208999\n",
      " 0.16138086 0.16064079 0.1598804  0.15910634 0.15832306 0.15753374\n",
      " 0.15674084 0.15594643 0.15515213 0.1543593  0.1535688  0.15278129\n",
      " 0.15199712 0.15121631 0.15043874 0.14966404]\n",
      "22 day output [[0.14889191]]\n",
      "23 day input [0.11974953 0.11291171 0.11028178 0.11063244 0.11774577 0.11611772\n",
      " 0.12145272 0.11739512 0.11448967 0.10429555 0.10537257 0.10659987\n",
      " 0.09986224 0.10289292 0.10161553 0.09635567 0.09785848 0.11068253\n",
      " 0.11769568 0.11211021 0.11529117 0.10958046 0.10434565 0.1092799\n",
      " 0.11458986 0.11559173 0.12275517 0.12062617 0.12663745 0.13134627\n",
      " 0.12771446 0.13046963 0.13377583 0.12884158 0.12726362 0.13507827\n",
      " 0.13906074 0.14542267 0.14860363 0.1472511  0.14256731 0.14482154\n",
      " 0.13823419 0.13515341 0.13340013 0.14707577 0.14619912 0.14624922\n",
      " 0.14935504 0.15226049 0.14980589 0.14572323 0.14649969 0.14259236\n",
      " 0.14256731 0.15421415 0.15739512 0.15716969 0.15453976 0.15180964\n",
      " 0.14765185 0.16713838 0.16696306 0.16262993 0.16710081 0.16758923\n",
      " 0.16463369 0.16338134 0.16338134 0.16493425 0.17084534 0.17112085\n",
      " 0.16871634 0.16210394 0.16280526 0.16568566 0.17179712 0.16429389\n",
      " 0.16413294 0.16381016 0.16333646 0.16275075 0.16208999 0.16138086\n",
      " 0.16064079 0.1598804  0.15910634 0.15832306 0.15753374 0.15674084\n",
      " 0.15594643 0.15515213 0.1543593  0.1535688  0.15278129 0.15199712\n",
      " 0.15121631 0.15043874 0.14966404 0.14889191]\n",
      "23 day output [[0.14812197]]\n",
      "24 day input [0.11291171 0.11028178 0.11063244 0.11774577 0.11611772 0.12145272\n",
      " 0.11739512 0.11448967 0.10429555 0.10537257 0.10659987 0.09986224\n",
      " 0.10289292 0.10161553 0.09635567 0.09785848 0.11068253 0.11769568\n",
      " 0.11211021 0.11529117 0.10958046 0.10434565 0.1092799  0.11458986\n",
      " 0.11559173 0.12275517 0.12062617 0.12663745 0.13134627 0.12771446\n",
      " 0.13046963 0.13377583 0.12884158 0.12726362 0.13507827 0.13906074\n",
      " 0.14542267 0.14860363 0.1472511  0.14256731 0.14482154 0.13823419\n",
      " 0.13515341 0.13340013 0.14707577 0.14619912 0.14624922 0.14935504\n",
      " 0.15226049 0.14980589 0.14572323 0.14649969 0.14259236 0.14256731\n",
      " 0.15421415 0.15739512 0.15716969 0.15453976 0.15180964 0.14765185\n",
      " 0.16713838 0.16696306 0.16262993 0.16710081 0.16758923 0.16463369\n",
      " 0.16338134 0.16338134 0.16493425 0.17084534 0.17112085 0.16871634\n",
      " 0.16210394 0.16280526 0.16568566 0.17179712 0.16429389 0.16413294\n",
      " 0.16381016 0.16333646 0.16275075 0.16208999 0.16138086 0.16064079\n",
      " 0.1598804  0.15910634 0.15832306 0.15753374 0.15674084 0.15594643\n",
      " 0.15515213 0.1543593  0.1535688  0.15278129 0.15199712 0.15121631\n",
      " 0.15043874 0.14966404 0.14889191 0.14812197]\n",
      "24 day output [[0.14735359]]\n",
      "25 day input [0.11028178 0.11063244 0.11774577 0.11611772 0.12145272 0.11739512\n",
      " 0.11448967 0.10429555 0.10537257 0.10659987 0.09986224 0.10289292\n",
      " 0.10161553 0.09635567 0.09785848 0.11068253 0.11769568 0.11211021\n",
      " 0.11529117 0.10958046 0.10434565 0.1092799  0.11458986 0.11559173\n",
      " 0.12275517 0.12062617 0.12663745 0.13134627 0.12771446 0.13046963\n",
      " 0.13377583 0.12884158 0.12726362 0.13507827 0.13906074 0.14542267\n",
      " 0.14860363 0.1472511  0.14256731 0.14482154 0.13823419 0.13515341\n",
      " 0.13340013 0.14707577 0.14619912 0.14624922 0.14935504 0.15226049\n",
      " 0.14980589 0.14572323 0.14649969 0.14259236 0.14256731 0.15421415\n",
      " 0.15739512 0.15716969 0.15453976 0.15180964 0.14765185 0.16713838\n",
      " 0.16696306 0.16262993 0.16710081 0.16758923 0.16463369 0.16338134\n",
      " 0.16338134 0.16493425 0.17084534 0.17112085 0.16871634 0.16210394\n",
      " 0.16280526 0.16568566 0.17179712 0.16429389 0.16413294 0.16381016\n",
      " 0.16333646 0.16275075 0.16208999 0.16138086 0.16064079 0.1598804\n",
      " 0.15910634 0.15832306 0.15753374 0.15674084 0.15594643 0.15515213\n",
      " 0.1543593  0.1535688  0.15278129 0.15199712 0.15121631 0.15043874\n",
      " 0.14966404 0.14889191 0.14812197 0.14735359]\n",
      "25 day output [[0.14658639]]\n",
      "26 day input [0.11063244 0.11774577 0.11611772 0.12145272 0.11739512 0.11448967\n",
      " 0.10429555 0.10537257 0.10659987 0.09986224 0.10289292 0.10161553\n",
      " 0.09635567 0.09785848 0.11068253 0.11769568 0.11211021 0.11529117\n",
      " 0.10958046 0.10434565 0.1092799  0.11458986 0.11559173 0.12275517\n",
      " 0.12062617 0.12663745 0.13134627 0.12771446 0.13046963 0.13377583\n",
      " 0.12884158 0.12726362 0.13507827 0.13906074 0.14542267 0.14860363\n",
      " 0.1472511  0.14256731 0.14482154 0.13823419 0.13515341 0.13340013\n",
      " 0.14707577 0.14619912 0.14624922 0.14935504 0.15226049 0.14980589\n",
      " 0.14572323 0.14649969 0.14259236 0.14256731 0.15421415 0.15739512\n",
      " 0.15716969 0.15453976 0.15180964 0.14765185 0.16713838 0.16696306\n",
      " 0.16262993 0.16710081 0.16758923 0.16463369 0.16338134 0.16338134\n",
      " 0.16493425 0.17084534 0.17112085 0.16871634 0.16210394 0.16280526\n",
      " 0.16568566 0.17179712 0.16429389 0.16413294 0.16381016 0.16333646\n",
      " 0.16275075 0.16208999 0.16138086 0.16064079 0.1598804  0.15910634\n",
      " 0.15832306 0.15753374 0.15674084 0.15594643 0.15515213 0.1543593\n",
      " 0.1535688  0.15278129 0.15199712 0.15121631 0.15043874 0.14966404\n",
      " 0.14889191 0.14812197 0.14735359 0.14658639]\n"
     ]
    },
    {
     "name": "stdout",
     "output_type": "stream",
     "text": [
      "26 day output [[0.14581987]]\n",
      "27 day input [0.11774577 0.11611772 0.12145272 0.11739512 0.11448967 0.10429555\n",
      " 0.10537257 0.10659987 0.09986224 0.10289292 0.10161553 0.09635567\n",
      " 0.09785848 0.11068253 0.11769568 0.11211021 0.11529117 0.10958046\n",
      " 0.10434565 0.1092799  0.11458986 0.11559173 0.12275517 0.12062617\n",
      " 0.12663745 0.13134627 0.12771446 0.13046963 0.13377583 0.12884158\n",
      " 0.12726362 0.13507827 0.13906074 0.14542267 0.14860363 0.1472511\n",
      " 0.14256731 0.14482154 0.13823419 0.13515341 0.13340013 0.14707577\n",
      " 0.14619912 0.14624922 0.14935504 0.15226049 0.14980589 0.14572323\n",
      " 0.14649969 0.14259236 0.14256731 0.15421415 0.15739512 0.15716969\n",
      " 0.15453976 0.15180964 0.14765185 0.16713838 0.16696306 0.16262993\n",
      " 0.16710081 0.16758923 0.16463369 0.16338134 0.16338134 0.16493425\n",
      " 0.17084534 0.17112085 0.16871634 0.16210394 0.16280526 0.16568566\n",
      " 0.17179712 0.16429389 0.16413294 0.16381016 0.16333646 0.16275075\n",
      " 0.16208999 0.16138086 0.16064079 0.1598804  0.15910634 0.15832306\n",
      " 0.15753374 0.15674084 0.15594643 0.15515213 0.1543593  0.1535688\n",
      " 0.15278129 0.15199712 0.15121631 0.15043874 0.14966404 0.14889191\n",
      " 0.14812197 0.14735359 0.14658639 0.14581987]\n",
      "27 day output [[0.14505361]]\n",
      "28 day input [0.11611772 0.12145272 0.11739512 0.11448967 0.10429555 0.10537257\n",
      " 0.10659987 0.09986224 0.10289292 0.10161553 0.09635567 0.09785848\n",
      " 0.11068253 0.11769568 0.11211021 0.11529117 0.10958046 0.10434565\n",
      " 0.1092799  0.11458986 0.11559173 0.12275517 0.12062617 0.12663745\n",
      " 0.13134627 0.12771446 0.13046963 0.13377583 0.12884158 0.12726362\n",
      " 0.13507827 0.13906074 0.14542267 0.14860363 0.1472511  0.14256731\n",
      " 0.14482154 0.13823419 0.13515341 0.13340013 0.14707577 0.14619912\n",
      " 0.14624922 0.14935504 0.15226049 0.14980589 0.14572323 0.14649969\n",
      " 0.14259236 0.14256731 0.15421415 0.15739512 0.15716969 0.15453976\n",
      " 0.15180964 0.14765185 0.16713838 0.16696306 0.16262993 0.16710081\n",
      " 0.16758923 0.16463369 0.16338134 0.16338134 0.16493425 0.17084534\n",
      " 0.17112085 0.16871634 0.16210394 0.16280526 0.16568566 0.17179712\n",
      " 0.16429389 0.16413294 0.16381016 0.16333646 0.16275075 0.16208999\n",
      " 0.16138086 0.16064079 0.1598804  0.15910634 0.15832306 0.15753374\n",
      " 0.15674084 0.15594643 0.15515213 0.1543593  0.1535688  0.15278129\n",
      " 0.15199712 0.15121631 0.15043874 0.14966404 0.14889191 0.14812197\n",
      " 0.14735359 0.14658639 0.14581987 0.14505361]\n",
      "28 day output [[0.1442872]]\n",
      "29 day input [0.12145272 0.11739512 0.11448967 0.10429555 0.10537257 0.10659987\n",
      " 0.09986224 0.10289292 0.10161553 0.09635567 0.09785848 0.11068253\n",
      " 0.11769568 0.11211021 0.11529117 0.10958046 0.10434565 0.1092799\n",
      " 0.11458986 0.11559173 0.12275517 0.12062617 0.12663745 0.13134627\n",
      " 0.12771446 0.13046963 0.13377583 0.12884158 0.12726362 0.13507827\n",
      " 0.13906074 0.14542267 0.14860363 0.1472511  0.14256731 0.14482154\n",
      " 0.13823419 0.13515341 0.13340013 0.14707577 0.14619912 0.14624922\n",
      " 0.14935504 0.15226049 0.14980589 0.14572323 0.14649969 0.14259236\n",
      " 0.14256731 0.15421415 0.15739512 0.15716969 0.15453976 0.15180964\n",
      " 0.14765185 0.16713838 0.16696306 0.16262993 0.16710081 0.16758923\n",
      " 0.16463369 0.16338134 0.16338134 0.16493425 0.17084534 0.17112085\n",
      " 0.16871634 0.16210394 0.16280526 0.16568566 0.17179712 0.16429389\n",
      " 0.16413294 0.16381016 0.16333646 0.16275075 0.16208999 0.16138086\n",
      " 0.16064079 0.1598804  0.15910634 0.15832306 0.15753374 0.15674084\n",
      " 0.15594643 0.15515213 0.1543593  0.1535688  0.15278129 0.15199712\n",
      " 0.15121631 0.15043874 0.14966404 0.14889191 0.14812197 0.14735359\n",
      " 0.14658639 0.14581987 0.14505361 0.1442872 ]\n",
      "29 day output [[0.14352047]]\n",
      "[[0.16429388523101807], [0.16413293778896332], [0.16381016373634338], [0.16333645582199097], [0.1627507507801056], [0.1620899885892868], [0.1613808572292328], [0.16064079105854034], [0.1598803997039795], [0.15910634398460388], [0.15832306444644928], [0.15753373503684998], [0.15674084424972534], [0.15594643354415894], [0.1551521271467209], [0.15435929596424103], [0.1535688042640686], [0.15278129279613495], [0.15199711918830872], [0.1512163132429123], [0.15043874084949493], [0.149664044380188], [0.14889191091060638], [0.14812196791172028], [0.14735358953475952], [0.14658638834953308], [0.14581987261772156], [0.14505361020565033], [0.14428719878196716], [0.14352047443389893]]\n"
     ]
    }
   ],
   "source": [
    "from numpy import array\n",
    "\n",
    "lst_output=[]\n",
    "n_steps=100\n",
    "i=0\n",
    "while(i<30):\n",
    "    \n",
    "    if(len(temp_input)>100):\n",
    "        #print(temp_input)\n",
    "        x_input=np.array(temp_input[1:])\n",
    "        print(\"{} day input {}\".format(i,x_input))\n",
    "        x_input=x_input.reshape(1,-1)\n",
    "        x_input = x_input.reshape((1, n_steps, 1))\n",
    "        #print(x_input)\n",
    "        yhat = model.predict(x_input, verbose=0)\n",
    "        print(\"{} day output {}\".format(i,yhat))\n",
    "        temp_input.extend(yhat[0].tolist())\n",
    "        temp_input=temp_input[1:]\n",
    "        #print(temp_input)\n",
    "        lst_output.extend(yhat.tolist())\n",
    "        i=i+1\n",
    "    else:\n",
    "        x_input = x_input.reshape((1, n_steps,1))\n",
    "        yhat = model.predict(x_input, verbose=0)\n",
    "        print(yhat[0])\n",
    "        temp_input.extend(yhat[0].tolist())\n",
    "        print(len(temp_input))\n",
    "        lst_output.extend(yhat.tolist())\n",
    "        i=i+1\n",
    "    \n",
    "\n",
    "print(lst_output)"
   ]
  },
  {
   "cell_type": "code",
   "execution_count": 48,
   "metadata": {},
   "outputs": [],
   "source": [
    "day_new=np.arange(1,101)\n",
    "day_pred=np.arange(101,131)"
   ]
  },
  {
   "cell_type": "code",
   "execution_count": 49,
   "metadata": {},
   "outputs": [
    {
     "data": {
      "text/plain": [
       "1259"
      ]
     },
     "execution_count": 49,
     "metadata": {},
     "output_type": "execute_result"
    }
   ],
   "source": [
    "len(df1)"
   ]
  },
  {
   "cell_type": "code",
   "execution_count": 50,
   "metadata": {},
   "outputs": [],
   "source": [
    "df3=df1.tolist()\n",
    "df3.extend(lst_output)"
   ]
  },
  {
   "cell_type": "code",
   "execution_count": 52,
   "metadata": {},
   "outputs": [
    {
     "data": {
      "text/plain": [
       "[<matplotlib.lines.Line2D at 0x1f93a8f60d0>]"
      ]
     },
     "execution_count": 52,
     "metadata": {},
     "output_type": "execute_result"
    },
    {
     "data": {
      "image/png": "[encoded data removed]",
      "text/plain": [
       "<Figure size 432x288 with 1 Axes>"
      ]
     },
     "metadata": {
      "needs_background": "light"
     },
     "output_type": "display_data"
    }
   ],
   "source": [
    "plt.plot(day_new,scaler.inverse_transform(df1[1159:]))\n",
    "plt.plot(day_pred,scaler.inverse_transform(lst_output))"
   ]
  },
  {
   "cell_type": "code",
   "execution_count": 53,
   "metadata": {
    "scrolled": true
   },
   "outputs": [
    {
     "data": {
      "text/plain": [
       "[<matplotlib.lines.Line2D at 0x1f93a863ee0>]"
      ]
     },
     "execution_count": 53,
     "metadata": {},
     "output_type": "execute_result"
    },
    {
     "data": {
      "image/png": "[encoded data removed]",
      "text/plain": [
       "<Figure size 432x288 with 1 Axes>"
      ]
     },
     "metadata": {
      "needs_background": "light"
     },
     "output_type": "display_data"
    }
   ],
   "source": [
    "plt.plot(df3[1000:])"
   ]
  },
  {
   "cell_type": "code",
   "execution_count": null,
   "metadata": {},
   "outputs": [],
   "source": []
  }
 ],
 "metadata": {
  "kernelspec": {
   "display_name": "Python 3",
   "language": "python",
   "name": "python3"
  },
  "language_info": {
   "codemirror_mode": {
    "name": "ipython",
    "version": 3
   },
   "file_extension": ".py",
   "mimetype": "text/x-python",
   "name": "python",
   "nbconvert_exporter": "python",
   "pygments_lexer": "ipython3",
   "version": "3.8.2"
  }
 },
 "nbformat": 4,
 "nbformat_minor": 4
}
